{
 "cells": [
  {
   "cell_type": "code",
   "execution_count": 1,
   "id": "b407e3a3",
   "metadata": {},
   "outputs": [
    {
     "name": "stderr",
     "output_type": "stream",
     "text": [
      "Installing package into 'C:/Users/nqhuy/OneDrive/Documents/R/win-library/4.1'\n",
      "(as 'lib' is unspecified)\n",
      "\n"
     ]
    },
    {
     "name": "stdout",
     "output_type": "stream",
     "text": [
      "package 'XML' successfully unpacked and MD5 sums checked\n",
      "\n",
      "The downloaded binary packages are in\n",
      "\tC:\\Users\\nqhuy\\AppData\\Local\\Temp\\Rtmp2RPqtD\\downloaded_packages\n"
     ]
    }
   ],
   "source": [
    "install.packages('XML')"
   ]
  },
  {
   "cell_type": "code",
   "execution_count": 1,
   "id": "010a6954",
   "metadata": {},
   "outputs": [],
   "source": [
    "library(XML)"
   ]
  },
  {
   "cell_type": "code",
   "execution_count": 2,
   "id": "2e746169",
   "metadata": {},
   "outputs": [],
   "source": [
    "library(methods)"
   ]
  },
  {
   "cell_type": "code",
   "execution_count": 5,
   "id": "ce228def",
   "metadata": {},
   "outputs": [],
   "source": [
    "data = xmlToDataFrame('Du_lieu/cd.xml')"
   ]
  },
  {
   "cell_type": "code",
   "execution_count": 6,
   "id": "2d273882",
   "metadata": {},
   "outputs": [
    {
     "data": {
      "text/html": [
       "<table class=\"dataframe\">\n",
       "<caption>A data.frame: 26 × 6</caption>\n",
       "<thead>\n",
       "\t<tr><th scope=col>TITLE</th><th scope=col>ARTIST</th><th scope=col>COUNTRY</th><th scope=col>COMPANY</th><th scope=col>PRICE</th><th scope=col>YEAR</th></tr>\n",
       "\t<tr><th scope=col>&lt;chr&gt;</th><th scope=col>&lt;chr&gt;</th><th scope=col>&lt;chr&gt;</th><th scope=col>&lt;chr&gt;</th><th scope=col>&lt;chr&gt;</th><th scope=col>&lt;chr&gt;</th></tr>\n",
       "</thead>\n",
       "<tbody>\n",
       "\t<tr><td>Empire Burlesque        </td><td>Bob Dylan        </td><td>USA   </td><td>Columbia      </td><td>10.90</td><td>1985</td></tr>\n",
       "\t<tr><td>Hide your heart         </td><td>Bonnie Tyler     </td><td>UK    </td><td>CBS Records   </td><td>9.90 </td><td>1988</td></tr>\n",
       "\t<tr><td>Greatest Hits           </td><td>Dolly Parton     </td><td>USA   </td><td>RCA           </td><td>9.90 </td><td>1982</td></tr>\n",
       "\t<tr><td>Still got the blues     </td><td>Gary Moore       </td><td>UK    </td><td>Virgin records</td><td>10.20</td><td>1990</td></tr>\n",
       "\t<tr><td>Eros                    </td><td>Eros Ramazzotti  </td><td>EU    </td><td>BMG           </td><td>9.90 </td><td>1997</td></tr>\n",
       "\t<tr><td>One night only          </td><td>Bee Gees         </td><td>UK    </td><td>Polydor       </td><td>10.90</td><td>1998</td></tr>\n",
       "\t<tr><td>Sylvias Mother          </td><td>Dr.Hook          </td><td>UK    </td><td>CBS           </td><td>8.10 </td><td>1973</td></tr>\n",
       "\t<tr><td>Maggie May              </td><td>Rod Stewart      </td><td>UK    </td><td>Pickwick      </td><td>8.50 </td><td>1990</td></tr>\n",
       "\t<tr><td>Romanza                 </td><td>Andrea Bocelli   </td><td>EU    </td><td>Polydor       </td><td>10.80</td><td>1996</td></tr>\n",
       "\t<tr><td>When a man loves a woman</td><td>Percy Sledge     </td><td>USA   </td><td>Atlantic      </td><td>8.70 </td><td>1987</td></tr>\n",
       "\t<tr><td>Black angel             </td><td>Savage Rose      </td><td>EU    </td><td>Mega          </td><td>10.90</td><td>1995</td></tr>\n",
       "\t<tr><td>1999 Grammy Nominees    </td><td>Many             </td><td>USA   </td><td>Grammy        </td><td>10.20</td><td>1999</td></tr>\n",
       "\t<tr><td>For the good times      </td><td>Kenny Rogers     </td><td>UK    </td><td>Mucik Master  </td><td>8.70 </td><td>1995</td></tr>\n",
       "\t<tr><td>Big Willie style        </td><td>Will Smith       </td><td>USA   </td><td>Columbia      </td><td>9.90 </td><td>1997</td></tr>\n",
       "\t<tr><td>Tupelo Honey            </td><td>Van Morrison     </td><td>UK    </td><td>Polydor       </td><td>8.20 </td><td>1971</td></tr>\n",
       "\t<tr><td>Soulsville              </td><td>Jorn Hoel        </td><td>Norway</td><td>WEA           </td><td>7.90 </td><td>1996</td></tr>\n",
       "\t<tr><td>The very best of        </td><td>Cat Stevens      </td><td>UK    </td><td>Island        </td><td>8.90 </td><td>1990</td></tr>\n",
       "\t<tr><td>Stop                    </td><td>Sam Brown        </td><td>UK    </td><td>A and M       </td><td>8.90 </td><td>1988</td></tr>\n",
       "\t<tr><td>Bridge of Spies         </td><td>T'Pau            </td><td>UK    </td><td>Siren         </td><td>7.90 </td><td>1987</td></tr>\n",
       "\t<tr><td>Private Dancer          </td><td>Tina Turner      </td><td>UK    </td><td>Capitol       </td><td>8.90 </td><td>1983</td></tr>\n",
       "\t<tr><td>Midt om natten          </td><td>Kim Larsen       </td><td>EU    </td><td>Medley        </td><td>7.80 </td><td>1983</td></tr>\n",
       "\t<tr><td>Pavarotti Gala Concert  </td><td>Luciano Pavarotti</td><td>UK    </td><td>DECCA         </td><td>9.90 </td><td>1991</td></tr>\n",
       "\t<tr><td>The dock of the bay     </td><td>Otis Redding     </td><td>USA   </td><td>Stax Records  </td><td>7.90 </td><td>1968</td></tr>\n",
       "\t<tr><td>Picture book            </td><td>Simply Red       </td><td>EU    </td><td>Elektra       </td><td>7.20 </td><td>1985</td></tr>\n",
       "\t<tr><td>Red                     </td><td>The Communards   </td><td>UK    </td><td>London        </td><td>7.80 </td><td>1987</td></tr>\n",
       "\t<tr><td>Unchain my heart        </td><td>Joe Cocker       </td><td>USA   </td><td>EMI           </td><td>8.20 </td><td>1987</td></tr>\n",
       "</tbody>\n",
       "</table>\n"
      ],
      "text/latex": [
       "A data.frame: 26 × 6\n",
       "\\begin{tabular}{llllll}\n",
       " TITLE & ARTIST & COUNTRY & COMPANY & PRICE & YEAR\\\\\n",
       " <chr> & <chr> & <chr> & <chr> & <chr> & <chr>\\\\\n",
       "\\hline\n",
       "\t Empire Burlesque         & Bob Dylan         & USA    & Columbia       & 10.90 & 1985\\\\\n",
       "\t Hide your heart          & Bonnie Tyler      & UK     & CBS Records    & 9.90  & 1988\\\\\n",
       "\t Greatest Hits            & Dolly Parton      & USA    & RCA            & 9.90  & 1982\\\\\n",
       "\t Still got the blues      & Gary Moore        & UK     & Virgin records & 10.20 & 1990\\\\\n",
       "\t Eros                     & Eros Ramazzotti   & EU     & BMG            & 9.90  & 1997\\\\\n",
       "\t One night only           & Bee Gees          & UK     & Polydor        & 10.90 & 1998\\\\\n",
       "\t Sylvias Mother           & Dr.Hook           & UK     & CBS            & 8.10  & 1973\\\\\n",
       "\t Maggie May               & Rod Stewart       & UK     & Pickwick       & 8.50  & 1990\\\\\n",
       "\t Romanza                  & Andrea Bocelli    & EU     & Polydor        & 10.80 & 1996\\\\\n",
       "\t When a man loves a woman & Percy Sledge      & USA    & Atlantic       & 8.70  & 1987\\\\\n",
       "\t Black angel              & Savage Rose       & EU     & Mega           & 10.90 & 1995\\\\\n",
       "\t 1999 Grammy Nominees     & Many              & USA    & Grammy         & 10.20 & 1999\\\\\n",
       "\t For the good times       & Kenny Rogers      & UK     & Mucik Master   & 8.70  & 1995\\\\\n",
       "\t Big Willie style         & Will Smith        & USA    & Columbia       & 9.90  & 1997\\\\\n",
       "\t Tupelo Honey             & Van Morrison      & UK     & Polydor        & 8.20  & 1971\\\\\n",
       "\t Soulsville               & Jorn Hoel         & Norway & WEA            & 7.90  & 1996\\\\\n",
       "\t The very best of         & Cat Stevens       & UK     & Island         & 8.90  & 1990\\\\\n",
       "\t Stop                     & Sam Brown         & UK     & A and M        & 8.90  & 1988\\\\\n",
       "\t Bridge of Spies          & T'Pau             & UK     & Siren          & 7.90  & 1987\\\\\n",
       "\t Private Dancer           & Tina Turner       & UK     & Capitol        & 8.90  & 1983\\\\\n",
       "\t Midt om natten           & Kim Larsen        & EU     & Medley         & 7.80  & 1983\\\\\n",
       "\t Pavarotti Gala Concert   & Luciano Pavarotti & UK     & DECCA          & 9.90  & 1991\\\\\n",
       "\t The dock of the bay      & Otis Redding      & USA    & Stax Records   & 7.90  & 1968\\\\\n",
       "\t Picture book             & Simply Red        & EU     & Elektra        & 7.20  & 1985\\\\\n",
       "\t Red                      & The Communards    & UK     & London         & 7.80  & 1987\\\\\n",
       "\t Unchain my heart         & Joe Cocker        & USA    & EMI            & 8.20  & 1987\\\\\n",
       "\\end{tabular}\n"
      ],
      "text/markdown": [
       "\n",
       "A data.frame: 26 × 6\n",
       "\n",
       "| TITLE &lt;chr&gt; | ARTIST &lt;chr&gt; | COUNTRY &lt;chr&gt; | COMPANY &lt;chr&gt; | PRICE &lt;chr&gt; | YEAR &lt;chr&gt; |\n",
       "|---|---|---|---|---|---|\n",
       "| Empire Burlesque         | Bob Dylan         | USA    | Columbia       | 10.90 | 1985 |\n",
       "| Hide your heart          | Bonnie Tyler      | UK     | CBS Records    | 9.90  | 1988 |\n",
       "| Greatest Hits            | Dolly Parton      | USA    | RCA            | 9.90  | 1982 |\n",
       "| Still got the blues      | Gary Moore        | UK     | Virgin records | 10.20 | 1990 |\n",
       "| Eros                     | Eros Ramazzotti   | EU     | BMG            | 9.90  | 1997 |\n",
       "| One night only           | Bee Gees          | UK     | Polydor        | 10.90 | 1998 |\n",
       "| Sylvias Mother           | Dr.Hook           | UK     | CBS            | 8.10  | 1973 |\n",
       "| Maggie May               | Rod Stewart       | UK     | Pickwick       | 8.50  | 1990 |\n",
       "| Romanza                  | Andrea Bocelli    | EU     | Polydor        | 10.80 | 1996 |\n",
       "| When a man loves a woman | Percy Sledge      | USA    | Atlantic       | 8.70  | 1987 |\n",
       "| Black angel              | Savage Rose       | EU     | Mega           | 10.90 | 1995 |\n",
       "| 1999 Grammy Nominees     | Many              | USA    | Grammy         | 10.20 | 1999 |\n",
       "| For the good times       | Kenny Rogers      | UK     | Mucik Master   | 8.70  | 1995 |\n",
       "| Big Willie style         | Will Smith        | USA    | Columbia       | 9.90  | 1997 |\n",
       "| Tupelo Honey             | Van Morrison      | UK     | Polydor        | 8.20  | 1971 |\n",
       "| Soulsville               | Jorn Hoel         | Norway | WEA            | 7.90  | 1996 |\n",
       "| The very best of         | Cat Stevens       | UK     | Island         | 8.90  | 1990 |\n",
       "| Stop                     | Sam Brown         | UK     | A and M        | 8.90  | 1988 |\n",
       "| Bridge of Spies          | T'Pau             | UK     | Siren          | 7.90  | 1987 |\n",
       "| Private Dancer           | Tina Turner       | UK     | Capitol        | 8.90  | 1983 |\n",
       "| Midt om natten           | Kim Larsen        | EU     | Medley         | 7.80  | 1983 |\n",
       "| Pavarotti Gala Concert   | Luciano Pavarotti | UK     | DECCA          | 9.90  | 1991 |\n",
       "| The dock of the bay      | Otis Redding      | USA    | Stax Records   | 7.90  | 1968 |\n",
       "| Picture book             | Simply Red        | EU     | Elektra        | 7.20  | 1985 |\n",
       "| Red                      | The Communards    | UK     | London         | 7.80  | 1987 |\n",
       "| Unchain my heart         | Joe Cocker        | USA    | EMI            | 8.20  | 1987 |\n",
       "\n"
      ],
      "text/plain": [
       "   TITLE                    ARTIST            COUNTRY COMPANY        PRICE YEAR\n",
       "1  Empire Burlesque         Bob Dylan         USA     Columbia       10.90 1985\n",
       "2  Hide your heart          Bonnie Tyler      UK      CBS Records    9.90  1988\n",
       "3  Greatest Hits            Dolly Parton      USA     RCA            9.90  1982\n",
       "4  Still got the blues      Gary Moore        UK      Virgin records 10.20 1990\n",
       "5  Eros                     Eros Ramazzotti   EU      BMG            9.90  1997\n",
       "6  One night only           Bee Gees          UK      Polydor        10.90 1998\n",
       "7  Sylvias Mother           Dr.Hook           UK      CBS            8.10  1973\n",
       "8  Maggie May               Rod Stewart       UK      Pickwick       8.50  1990\n",
       "9  Romanza                  Andrea Bocelli    EU      Polydor        10.80 1996\n",
       "10 When a man loves a woman Percy Sledge      USA     Atlantic       8.70  1987\n",
       "11 Black angel              Savage Rose       EU      Mega           10.90 1995\n",
       "12 1999 Grammy Nominees     Many              USA     Grammy         10.20 1999\n",
       "13 For the good times       Kenny Rogers      UK      Mucik Master   8.70  1995\n",
       "14 Big Willie style         Will Smith        USA     Columbia       9.90  1997\n",
       "15 Tupelo Honey             Van Morrison      UK      Polydor        8.20  1971\n",
       "16 Soulsville               Jorn Hoel         Norway  WEA            7.90  1996\n",
       "17 The very best of         Cat Stevens       UK      Island         8.90  1990\n",
       "18 Stop                     Sam Brown         UK      A and M        8.90  1988\n",
       "19 Bridge of Spies          T'Pau             UK      Siren          7.90  1987\n",
       "20 Private Dancer           Tina Turner       UK      Capitol        8.90  1983\n",
       "21 Midt om natten           Kim Larsen        EU      Medley         7.80  1983\n",
       "22 Pavarotti Gala Concert   Luciano Pavarotti UK      DECCA          9.90  1991\n",
       "23 The dock of the bay      Otis Redding      USA     Stax Records   7.90  1968\n",
       "24 Picture book             Simply Red        EU      Elektra        7.20  1985\n",
       "25 Red                      The Communards    UK      London         7.80  1987\n",
       "26 Unchain my heart         Joe Cocker        USA     EMI            8.20  1987"
      ]
     },
     "metadata": {},
     "output_type": "display_data"
    }
   ],
   "source": [
    "data"
   ]
  },
  {
   "cell_type": "code",
   "execution_count": 7,
   "id": "0fbdec40",
   "metadata": {},
   "outputs": [],
   "source": [
    "# ghi noi dung vao XML\n",
    "# cat(saveXML(xml_data, indent = TRUE, \n",
    "#     prefix = \"<?xml version=\\\"1.0\\\" encoding=\\\"utf-8\\\" standalone=\\\"no\\\"?>\\n\"),\n",
    "#     file=\"../Đường_dẫn_tập_tin\")"
   ]
  },
  {
   "cell_type": "code",
   "execution_count": 8,
   "id": "9123169d",
   "metadata": {},
   "outputs": [
    {
     "data": {
      "text/html": [
       "<table class=\"dataframe\">\n",
       "<caption>A data.frame: 7 × 6</caption>\n",
       "<thead>\n",
       "\t<tr><th></th><th scope=col>TITLE</th><th scope=col>ARTIST</th><th scope=col>COUNTRY</th><th scope=col>COMPANY</th><th scope=col>PRICE</th><th scope=col>YEAR</th></tr>\n",
       "\t<tr><th></th><th scope=col>&lt;chr&gt;</th><th scope=col>&lt;chr&gt;</th><th scope=col>&lt;chr&gt;</th><th scope=col>&lt;chr&gt;</th><th scope=col>&lt;chr&gt;</th><th scope=col>&lt;chr&gt;</th></tr>\n",
       "</thead>\n",
       "<tbody>\n",
       "\t<tr><th scope=row>1</th><td>Empire Burlesque        </td><td>Bob Dylan   </td><td>USA</td><td>Columbia    </td><td>10.90</td><td>1985</td></tr>\n",
       "\t<tr><th scope=row>3</th><td>Greatest Hits           </td><td>Dolly Parton</td><td>USA</td><td>RCA         </td><td>9.90 </td><td>1982</td></tr>\n",
       "\t<tr><th scope=row>10</th><td>When a man loves a woman</td><td>Percy Sledge</td><td>USA</td><td>Atlantic    </td><td>8.70 </td><td>1987</td></tr>\n",
       "\t<tr><th scope=row>12</th><td>1999 Grammy Nominees    </td><td>Many        </td><td>USA</td><td>Grammy      </td><td>10.20</td><td>1999</td></tr>\n",
       "\t<tr><th scope=row>14</th><td>Big Willie style        </td><td>Will Smith  </td><td>USA</td><td>Columbia    </td><td>9.90 </td><td>1997</td></tr>\n",
       "\t<tr><th scope=row>23</th><td>The dock of the bay     </td><td>Otis Redding</td><td>USA</td><td>Stax Records</td><td>7.90 </td><td>1968</td></tr>\n",
       "\t<tr><th scope=row>26</th><td>Unchain my heart        </td><td>Joe Cocker  </td><td>USA</td><td>EMI         </td><td>8.20 </td><td>1987</td></tr>\n",
       "</tbody>\n",
       "</table>\n"
      ],
      "text/latex": [
       "A data.frame: 7 × 6\n",
       "\\begin{tabular}{r|llllll}\n",
       "  & TITLE & ARTIST & COUNTRY & COMPANY & PRICE & YEAR\\\\\n",
       "  & <chr> & <chr> & <chr> & <chr> & <chr> & <chr>\\\\\n",
       "\\hline\n",
       "\t1 & Empire Burlesque         & Bob Dylan    & USA & Columbia     & 10.90 & 1985\\\\\n",
       "\t3 & Greatest Hits            & Dolly Parton & USA & RCA          & 9.90  & 1982\\\\\n",
       "\t10 & When a man loves a woman & Percy Sledge & USA & Atlantic     & 8.70  & 1987\\\\\n",
       "\t12 & 1999 Grammy Nominees     & Many         & USA & Grammy       & 10.20 & 1999\\\\\n",
       "\t14 & Big Willie style         & Will Smith   & USA & Columbia     & 9.90  & 1997\\\\\n",
       "\t23 & The dock of the bay      & Otis Redding & USA & Stax Records & 7.90  & 1968\\\\\n",
       "\t26 & Unchain my heart         & Joe Cocker   & USA & EMI          & 8.20  & 1987\\\\\n",
       "\\end{tabular}\n"
      ],
      "text/markdown": [
       "\n",
       "A data.frame: 7 × 6\n",
       "\n",
       "| <!--/--> | TITLE &lt;chr&gt; | ARTIST &lt;chr&gt; | COUNTRY &lt;chr&gt; | COMPANY &lt;chr&gt; | PRICE &lt;chr&gt; | YEAR &lt;chr&gt; |\n",
       "|---|---|---|---|---|---|---|\n",
       "| 1 | Empire Burlesque         | Bob Dylan    | USA | Columbia     | 10.90 | 1985 |\n",
       "| 3 | Greatest Hits            | Dolly Parton | USA | RCA          | 9.90  | 1982 |\n",
       "| 10 | When a man loves a woman | Percy Sledge | USA | Atlantic     | 8.70  | 1987 |\n",
       "| 12 | 1999 Grammy Nominees     | Many         | USA | Grammy       | 10.20 | 1999 |\n",
       "| 14 | Big Willie style         | Will Smith   | USA | Columbia     | 9.90  | 1997 |\n",
       "| 23 | The dock of the bay      | Otis Redding | USA | Stax Records | 7.90  | 1968 |\n",
       "| 26 | Unchain my heart         | Joe Cocker   | USA | EMI          | 8.20  | 1987 |\n",
       "\n"
      ],
      "text/plain": [
       "   TITLE                    ARTIST       COUNTRY COMPANY      PRICE YEAR\n",
       "1  Empire Burlesque         Bob Dylan    USA     Columbia     10.90 1985\n",
       "3  Greatest Hits            Dolly Parton USA     RCA          9.90  1982\n",
       "10 When a man loves a woman Percy Sledge USA     Atlantic     8.70  1987\n",
       "12 1999 Grammy Nominees     Many         USA     Grammy       10.20 1999\n",
       "14 Big Willie style         Will Smith   USA     Columbia     9.90  1997\n",
       "23 The dock of the bay      Otis Redding USA     Stax Records 7.90  1968\n",
       "26 Unchain my heart         Joe Cocker   USA     EMI          8.20  1987"
      ]
     },
     "metadata": {},
     "output_type": "display_data"
    }
   ],
   "source": [
    "cds_USA = subset(data, COUNTRY == 'USA')\n",
    "cds_USA"
   ]
  },
  {
   "cell_type": "code",
   "execution_count": 9,
   "id": "f259fcd3",
   "metadata": {},
   "outputs": [],
   "source": [
    "# Create new doc\n",
    "doc = newXMLDoc()\n",
    "# simple creation of an XML tree using these functions\n",
    "top = newXMLNode('CATALOG', doc = doc)\n",
    "for (row in 1:nrow(cds_USA)){\n",
    "    cdnode = newXMLNode('CD', parent = top)\n",
    "    newXMLNode('TITLE', cds_USA[row, 'TITLE'], parent = cdnode)\n",
    "    newXMLNode('ARTIST', cds_USA[row, 'ARTIST'], parent = cdnode)\n",
    "    newXMLNode('COUNTRY', cds_USA[row, 'COUNTRY'], parent = cdnode)\n",
    "    newXMLNode('COMPANY', cds_USA[row, 'COMPANY'], parent = cdnode)\n",
    "    newXMLNode('PRICE', cds_USA[row, 'PRICE'], parent = cdnode)\n",
    "    newXMLNode('YEAR', cds_USA[row, 'YEAR'], parent = cdnode)\n",
    "}"
   ]
  },
  {
   "cell_type": "code",
   "execution_count": 10,
   "id": "764ae705",
   "metadata": {},
   "outputs": [
    {
     "data": {
      "text/plain": [
       "<?xml version=\"1.0\"?>\n",
       "<CATALOG>\n",
       "  <CD>\n",
       "    <TITLE>Empire Burlesque</TITLE>\n",
       "    <ARTIST>Bob Dylan</ARTIST>\n",
       "    <COUNTRY>USA</COUNTRY>\n",
       "    <COMPANY>Columbia</COMPANY>\n",
       "    <PRICE>10.90</PRICE>\n",
       "    <YEAR>1985</YEAR>\n",
       "  </CD>\n",
       "  <CD>\n",
       "    <TITLE>Greatest Hits</TITLE>\n",
       "    <ARTIST>Dolly Parton</ARTIST>\n",
       "    <COUNTRY>USA</COUNTRY>\n",
       "    <COMPANY>RCA</COMPANY>\n",
       "    <PRICE>9.90</PRICE>\n",
       "    <YEAR>1982</YEAR>\n",
       "  </CD>\n",
       "  <CD>\n",
       "    <TITLE>When a man loves a woman</TITLE>\n",
       "    <ARTIST>Percy Sledge</ARTIST>\n",
       "    <COUNTRY>USA</COUNTRY>\n",
       "    <COMPANY>Atlantic</COMPANY>\n",
       "    <PRICE>8.70</PRICE>\n",
       "    <YEAR>1987</YEAR>\n",
       "  </CD>\n",
       "  <CD>\n",
       "    <TITLE>1999 Grammy Nominees</TITLE>\n",
       "    <ARTIST>Many</ARTIST>\n",
       "    <COUNTRY>USA</COUNTRY>\n",
       "    <COMPANY>Grammy</COMPANY>\n",
       "    <PRICE>10.20</PRICE>\n",
       "    <YEAR>1999</YEAR>\n",
       "  </CD>\n",
       "  <CD>\n",
       "    <TITLE>Big Willie style</TITLE>\n",
       "    <ARTIST>Will Smith</ARTIST>\n",
       "    <COUNTRY>USA</COUNTRY>\n",
       "    <COMPANY>Columbia</COMPANY>\n",
       "    <PRICE>9.90</PRICE>\n",
       "    <YEAR>1997</YEAR>\n",
       "  </CD>\n",
       "  <CD>\n",
       "    <TITLE>The dock of the bay</TITLE>\n",
       "    <ARTIST>Otis Redding</ARTIST>\n",
       "    <COUNTRY>USA</COUNTRY>\n",
       "    <COMPANY>Stax Records</COMPANY>\n",
       "    <PRICE>7.90</PRICE>\n",
       "    <YEAR>1968</YEAR>\n",
       "  </CD>\n",
       "  <CD>\n",
       "    <TITLE>Unchain my heart</TITLE>\n",
       "    <ARTIST>Joe Cocker</ARTIST>\n",
       "    <COUNTRY>USA</COUNTRY>\n",
       "    <COMPANY>EMI</COMPANY>\n",
       "    <PRICE>8.20</PRICE>\n",
       "    <YEAR>1987</YEAR>\n",
       "  </CD>\n",
       "</CATALOG>\n",
       " "
      ]
     },
     "metadata": {},
     "output_type": "display_data"
    }
   ],
   "source": [
    "doc"
   ]
  },
  {
   "cell_type": "code",
   "execution_count": 11,
   "id": "36787e33",
   "metadata": {},
   "outputs": [
    {
     "name": "stdout",
     "output_type": "stream",
     "text": [
      "[1] \"Saving file\"\n",
      "[1] \"Complete!\"\n"
     ]
    }
   ],
   "source": [
    "# save file\n",
    "print('Saving file')\n",
    "cat(saveXML(doc, \n",
    "    indent = TRUE, \n",
    "    prefix = \"<?xml version=\\\"1.0\\\" encoding=\\\"utf-8\\\" standalone=\\\"no\\\"?>\\n\"),\n",
    "    file=\"Du_lieu_new/cds_USA.xml\")\n",
    "print('Complete!')"
   ]
  },
  {
   "cell_type": "markdown",
   "id": "a561b3e8",
   "metadata": {},
   "source": [
    "## Cach 2"
   ]
  },
  {
   "cell_type": "code",
   "execution_count": 12,
   "id": "b50ebfca",
   "metadata": {},
   "outputs": [],
   "source": [
    "# Another solution to save xml file\n",
    "doc_xml <- newXMLDoc(isHTML = FALSE)\n",
    "table_node <- newXMLNode(\"CATALOG\", doc = doc_xml)\n",
    "row_data <- apply(cds_USA, 1, function(x) {\n",
    "  z1 <- newXMLNode('CD') # create a new node for each row\n",
    "  addChildren(z1, lapply(names(x), function(y) newXMLNode(y, x[y])))\n",
    "})\n",
    "xmlParent(row_data) <- table_node"
   ]
  },
  {
   "cell_type": "code",
   "execution_count": 13,
   "id": "392554f6",
   "metadata": {},
   "outputs": [
    {
     "data": {
      "text/html": [
       "'Du_lieu_new//cds_usa_2.xml'"
      ],
      "text/latex": [
       "'Du\\_lieu\\_new//cds\\_usa\\_2.xml'"
      ],
      "text/markdown": [
       "'Du_lieu_new//cds_usa_2.xml'"
      ],
      "text/plain": [
       "[1] \"Du_lieu_new//cds_usa_2.xml\""
      ]
     },
     "metadata": {},
     "output_type": "display_data"
    }
   ],
   "source": [
    "#Save file xml\n",
    "saveXML(doc_xml, file = \"Du_lieu_new//cds_usa_2.xml\")"
   ]
  },
  {
   "cell_type": "code",
   "execution_count": 15,
   "id": "8cd3f2d1",
   "metadata": {},
   "outputs": [],
   "source": [
    "# example(lapply) : ap dung cho list, vector (nhu map() ???)\n",
    "# apply: ap dung cho df, matrix, array"
   ]
  },
  {
   "cell_type": "code",
   "execution_count": 23,
   "id": "82e3e2c1",
   "metadata": {},
   "outputs": [],
   "source": [
    "help(lapply)"
   ]
  },
  {
   "cell_type": "code",
   "execution_count": null,
   "id": "af861752",
   "metadata": {},
   "outputs": [],
   "source": []
  },
  {
   "cell_type": "code",
   "execution_count": 3,
   "id": "896ef037",
   "metadata": {},
   "outputs": [],
   "source": [
    "url = 'http://www.w3schools.com/xml/cd_catalog.xml'\n",
    "download.file(url, destfile = 'Du_lieu_new/cd.xml')"
   ]
  },
  {
   "cell_type": "code",
   "execution_count": 4,
   "id": "27e56399",
   "metadata": {},
   "outputs": [
    {
     "data": {
      "text/html": [
       "<table class=\"dataframe\">\n",
       "<caption>A data.frame: 6 × 6</caption>\n",
       "<thead>\n",
       "\t<tr><th></th><th scope=col>TITLE</th><th scope=col>ARTIST</th><th scope=col>COUNTRY</th><th scope=col>COMPANY</th><th scope=col>PRICE</th><th scope=col>YEAR</th></tr>\n",
       "\t<tr><th></th><th scope=col>&lt;chr&gt;</th><th scope=col>&lt;chr&gt;</th><th scope=col>&lt;chr&gt;</th><th scope=col>&lt;chr&gt;</th><th scope=col>&lt;chr&gt;</th><th scope=col>&lt;chr&gt;</th></tr>\n",
       "</thead>\n",
       "<tbody>\n",
       "\t<tr><th scope=row>1</th><td>Empire Burlesque   </td><td>Bob Dylan      </td><td>USA</td><td>Columbia      </td><td>10.90</td><td>1985</td></tr>\n",
       "\t<tr><th scope=row>2</th><td>Hide your heart    </td><td>Bonnie Tyler   </td><td>UK </td><td>CBS Records   </td><td>9.90 </td><td>1988</td></tr>\n",
       "\t<tr><th scope=row>3</th><td>Greatest Hits      </td><td>Dolly Parton   </td><td>USA</td><td>RCA           </td><td>9.90 </td><td>1982</td></tr>\n",
       "\t<tr><th scope=row>4</th><td>Still got the blues</td><td>Gary Moore     </td><td>UK </td><td>Virgin records</td><td>10.20</td><td>1990</td></tr>\n",
       "\t<tr><th scope=row>5</th><td>Eros               </td><td>Eros Ramazzotti</td><td>EU </td><td>BMG           </td><td>9.90 </td><td>1997</td></tr>\n",
       "\t<tr><th scope=row>6</th><td>One night only     </td><td>Bee Gees       </td><td>UK </td><td>Polydor       </td><td>10.90</td><td>1998</td></tr>\n",
       "</tbody>\n",
       "</table>\n"
      ],
      "text/latex": [
       "A data.frame: 6 × 6\n",
       "\\begin{tabular}{r|llllll}\n",
       "  & TITLE & ARTIST & COUNTRY & COMPANY & PRICE & YEAR\\\\\n",
       "  & <chr> & <chr> & <chr> & <chr> & <chr> & <chr>\\\\\n",
       "\\hline\n",
       "\t1 & Empire Burlesque    & Bob Dylan       & USA & Columbia       & 10.90 & 1985\\\\\n",
       "\t2 & Hide your heart     & Bonnie Tyler    & UK  & CBS Records    & 9.90  & 1988\\\\\n",
       "\t3 & Greatest Hits       & Dolly Parton    & USA & RCA            & 9.90  & 1982\\\\\n",
       "\t4 & Still got the blues & Gary Moore      & UK  & Virgin records & 10.20 & 1990\\\\\n",
       "\t5 & Eros                & Eros Ramazzotti & EU  & BMG            & 9.90  & 1997\\\\\n",
       "\t6 & One night only      & Bee Gees        & UK  & Polydor        & 10.90 & 1998\\\\\n",
       "\\end{tabular}\n"
      ],
      "text/markdown": [
       "\n",
       "A data.frame: 6 × 6\n",
       "\n",
       "| <!--/--> | TITLE &lt;chr&gt; | ARTIST &lt;chr&gt; | COUNTRY &lt;chr&gt; | COMPANY &lt;chr&gt; | PRICE &lt;chr&gt; | YEAR &lt;chr&gt; |\n",
       "|---|---|---|---|---|---|---|\n",
       "| 1 | Empire Burlesque    | Bob Dylan       | USA | Columbia       | 10.90 | 1985 |\n",
       "| 2 | Hide your heart     | Bonnie Tyler    | UK  | CBS Records    | 9.90  | 1988 |\n",
       "| 3 | Greatest Hits       | Dolly Parton    | USA | RCA            | 9.90  | 1982 |\n",
       "| 4 | Still got the blues | Gary Moore      | UK  | Virgin records | 10.20 | 1990 |\n",
       "| 5 | Eros                | Eros Ramazzotti | EU  | BMG            | 9.90  | 1997 |\n",
       "| 6 | One night only      | Bee Gees        | UK  | Polydor        | 10.90 | 1998 |\n",
       "\n"
      ],
      "text/plain": [
       "  TITLE               ARTIST          COUNTRY COMPANY        PRICE YEAR\n",
       "1 Empire Burlesque    Bob Dylan       USA     Columbia       10.90 1985\n",
       "2 Hide your heart     Bonnie Tyler    UK      CBS Records    9.90  1988\n",
       "3 Greatest Hits       Dolly Parton    USA     RCA            9.90  1982\n",
       "4 Still got the blues Gary Moore      UK      Virgin records 10.20 1990\n",
       "5 Eros                Eros Ramazzotti EU      BMG            9.90  1997\n",
       "6 One night only      Bee Gees        UK      Polydor        10.90 1998"
      ]
     },
     "metadata": {},
     "output_type": "display_data"
    }
   ],
   "source": [
    "cd = xmlToDataFrame('Du_lieu_new/cd.xml')\n",
    "head(cd)"
   ]
  },
  {
   "cell_type": "code",
   "execution_count": null,
   "id": "0d487345",
   "metadata": {},
   "outputs": [],
   "source": []
  }
 ],
 "metadata": {
  "kernelspec": {
   "display_name": "R",
   "language": "R",
   "name": "ir"
  },
  "language_info": {
   "codemirror_mode": "r",
   "file_extension": ".r",
   "mimetype": "text/x-r-source",
   "name": "R",
   "pygments_lexer": "r",
   "version": "3.6.3"
  }
 },
 "nbformat": 4,
 "nbformat_minor": 5
}
