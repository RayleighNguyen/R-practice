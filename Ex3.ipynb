{
 "cells": [
  {
   "cell_type": "code",
   "execution_count": 1,
   "id": "6bfa8016",
   "metadata": {},
   "outputs": [],
   "source": [
    "library('httr')\n",
    "library('jsonlite')"
   ]
  },
  {
   "cell_type": "code",
   "execution_count": 11,
   "id": "225a47b1",
   "metadata": {},
   "outputs": [
    {
     "name": "stderr",
     "output_type": "stream",
     "text": [
      "── \u001b[1mAttaching packages\u001b[22m ─────────────────────────────────────── tidyverse 1.3.1 ──\n",
      "\n",
      "\u001b[32m✔\u001b[39m \u001b[34mggplot2\u001b[39m 3.3.5     \u001b[32m✔\u001b[39m \u001b[34mpurrr  \u001b[39m 0.3.4\n",
      "\u001b[32m✔\u001b[39m \u001b[34mtibble \u001b[39m 3.1.2     \u001b[32m✔\u001b[39m \u001b[34mdplyr  \u001b[39m 1.0.7\n",
      "\u001b[32m✔\u001b[39m \u001b[34mtidyr  \u001b[39m 1.1.3     \u001b[32m✔\u001b[39m \u001b[34mstringr\u001b[39m 1.4.0\n",
      "\u001b[32m✔\u001b[39m \u001b[34mreadr  \u001b[39m 1.4.0     \u001b[32m✔\u001b[39m \u001b[34mforcats\u001b[39m 0.5.1\n",
      "\n",
      "── \u001b[1mConflicts\u001b[22m ────────────────────────────────────────── tidyverse_conflicts() ──\n",
      "\u001b[31m✖\u001b[39m \u001b[34mdplyr\u001b[39m::\u001b[32mfilter()\u001b[39m  masks \u001b[34mstats\u001b[39m::filter()\n",
      "\u001b[31m✖\u001b[39m \u001b[34mpurrr\u001b[39m::\u001b[32mflatten()\u001b[39m masks \u001b[34mjsonlite\u001b[39m::flatten()\n",
      "\u001b[31m✖\u001b[39m \u001b[34mdplyr\u001b[39m::\u001b[32mlag()\u001b[39m     masks \u001b[34mstats\u001b[39m::lag()\n",
      "\n"
     ]
    }
   ],
   "source": [
    "library(tidyverse)"
   ]
  },
  {
   "cell_type": "code",
   "execution_count": 2,
   "id": "bf630721",
   "metadata": {},
   "outputs": [],
   "source": [
    "orange = fromJSON('Chapter10/Du_lieu/orange.json')"
   ]
  },
  {
   "cell_type": "code",
   "execution_count": 5,
   "id": "76b47583",
   "metadata": {},
   "outputs": [
    {
     "data": {
      "text/html": [
       "'list'"
      ],
      "text/latex": [
       "'list'"
      ],
      "text/markdown": [
       "'list'"
      ],
      "text/plain": [
       "[1] \"list\""
      ]
     },
     "metadata": {},
     "output_type": "display_data"
    }
   ],
   "source": [
    "class(orange)"
   ]
  },
  {
   "cell_type": "code",
   "execution_count": 6,
   "id": "15530f3c",
   "metadata": {},
   "outputs": [],
   "source": [
    "orange = data.frame(orange)"
   ]
  },
  {
   "cell_type": "code",
   "execution_count": 8,
   "id": "39c84079",
   "metadata": {},
   "outputs": [
    {
     "data": {
      "text/html": [
       "<table class=\"dataframe\">\n",
       "<caption>A data.frame: 6 × 3</caption>\n",
       "<thead>\n",
       "\t<tr><th></th><th scope=col>Tree</th><th scope=col>age</th><th scope=col>circumference</th></tr>\n",
       "\t<tr><th></th><th scope=col>&lt;chr&gt;</th><th scope=col>&lt;int&gt;</th><th scope=col>&lt;int&gt;</th></tr>\n",
       "</thead>\n",
       "<tbody>\n",
       "\t<tr><th scope=row>1</th><td>1</td><td> 118</td><td> 30</td></tr>\n",
       "\t<tr><th scope=row>2</th><td>1</td><td> 484</td><td> 58</td></tr>\n",
       "\t<tr><th scope=row>3</th><td>1</td><td> 664</td><td> 87</td></tr>\n",
       "\t<tr><th scope=row>4</th><td>1</td><td>1004</td><td>115</td></tr>\n",
       "\t<tr><th scope=row>5</th><td>1</td><td>1231</td><td>120</td></tr>\n",
       "\t<tr><th scope=row>6</th><td>1</td><td>1372</td><td>142</td></tr>\n",
       "</tbody>\n",
       "</table>\n"
      ],
      "text/latex": [
       "A data.frame: 6 × 3\n",
       "\\begin{tabular}{r|lll}\n",
       "  & Tree & age & circumference\\\\\n",
       "  & <chr> & <int> & <int>\\\\\n",
       "\\hline\n",
       "\t1 & 1 &  118 &  30\\\\\n",
       "\t2 & 1 &  484 &  58\\\\\n",
       "\t3 & 1 &  664 &  87\\\\\n",
       "\t4 & 1 & 1004 & 115\\\\\n",
       "\t5 & 1 & 1231 & 120\\\\\n",
       "\t6 & 1 & 1372 & 142\\\\\n",
       "\\end{tabular}\n"
      ],
      "text/markdown": [
       "\n",
       "A data.frame: 6 × 3\n",
       "\n",
       "| <!--/--> | Tree &lt;chr&gt; | age &lt;int&gt; | circumference &lt;int&gt; |\n",
       "|---|---|---|---|\n",
       "| 1 | 1 |  118 |  30 |\n",
       "| 2 | 1 |  484 |  58 |\n",
       "| 3 | 1 |  664 |  87 |\n",
       "| 4 | 1 | 1004 | 115 |\n",
       "| 5 | 1 | 1231 | 120 |\n",
       "| 6 | 1 | 1372 | 142 |\n",
       "\n"
      ],
      "text/plain": [
       "  Tree age  circumference\n",
       "1 1     118  30          \n",
       "2 1     484  58          \n",
       "3 1     664  87          \n",
       "4 1    1004 115          \n",
       "5 1    1231 120          \n",
       "6 1    1372 142          "
      ]
     },
     "metadata": {},
     "output_type": "display_data"
    }
   ],
   "source": [
    "head(orange)"
   ]
  },
  {
   "cell_type": "code",
   "execution_count": 15,
   "id": "88e8cca0",
   "metadata": {},
   "outputs": [
    {
     "data": {
      "text/html": [
       "<table class=\"dataframe\">\n",
       "<caption>A data.frame: 10 × 3</caption>\n",
       "<thead>\n",
       "\t<tr><th scope=col>Tree</th><th scope=col>age</th><th scope=col>circumference</th></tr>\n",
       "\t<tr><th scope=col>&lt;chr&gt;</th><th scope=col>&lt;int&gt;</th><th scope=col>&lt;int&gt;</th></tr>\n",
       "</thead>\n",
       "<tbody>\n",
       "\t<tr><td>1</td><td> 118</td><td> 30</td></tr>\n",
       "\t<tr><td>2</td><td> 118</td><td> 33</td></tr>\n",
       "\t<tr><td>3</td><td> 118</td><td> 30</td></tr>\n",
       "\t<tr><td>4</td><td> 118</td><td> 32</td></tr>\n",
       "\t<tr><td>5</td><td> 118</td><td> 30</td></tr>\n",
       "\t<tr><td>1</td><td>1582</td><td>145</td></tr>\n",
       "\t<tr><td>2</td><td>1582</td><td>203</td></tr>\n",
       "\t<tr><td>3</td><td>1582</td><td>140</td></tr>\n",
       "\t<tr><td>4</td><td>1582</td><td>214</td></tr>\n",
       "\t<tr><td>5</td><td>1582</td><td>177</td></tr>\n",
       "</tbody>\n",
       "</table>\n"
      ],
      "text/latex": [
       "A data.frame: 10 × 3\n",
       "\\begin{tabular}{lll}\n",
       " Tree & age & circumference\\\\\n",
       " <chr> & <int> & <int>\\\\\n",
       "\\hline\n",
       "\t 1 &  118 &  30\\\\\n",
       "\t 2 &  118 &  33\\\\\n",
       "\t 3 &  118 &  30\\\\\n",
       "\t 4 &  118 &  32\\\\\n",
       "\t 5 &  118 &  30\\\\\n",
       "\t 1 & 1582 & 145\\\\\n",
       "\t 2 & 1582 & 203\\\\\n",
       "\t 3 & 1582 & 140\\\\\n",
       "\t 4 & 1582 & 214\\\\\n",
       "\t 5 & 1582 & 177\\\\\n",
       "\\end{tabular}\n"
      ],
      "text/markdown": [
       "\n",
       "A data.frame: 10 × 3\n",
       "\n",
       "| Tree &lt;chr&gt; | age &lt;int&gt; | circumference &lt;int&gt; |\n",
       "|---|---|---|\n",
       "| 1 |  118 |  30 |\n",
       "| 2 |  118 |  33 |\n",
       "| 3 |  118 |  30 |\n",
       "| 4 |  118 |  32 |\n",
       "| 5 |  118 |  30 |\n",
       "| 1 | 1582 | 145 |\n",
       "| 2 | 1582 | 203 |\n",
       "| 3 | 1582 | 140 |\n",
       "| 4 | 1582 | 214 |\n",
       "| 5 | 1582 | 177 |\n",
       "\n"
      ],
      "text/plain": [
       "   Tree age  circumference\n",
       "1  1     118  30          \n",
       "2  2     118  33          \n",
       "3  3     118  30          \n",
       "4  4     118  32          \n",
       "5  5     118  30          \n",
       "6  1    1582 145          \n",
       "7  2    1582 203          \n",
       "8  3    1582 140          \n",
       "9  4    1582 214          \n",
       "10 5    1582 177          "
      ]
     },
     "metadata": {},
     "output_type": "display_data"
    }
   ],
   "source": [
    "arrange(orange[orange$age == max(orange$age) | orange$age == min(orange$age),], age)"
   ]
  },
  {
   "cell_type": "code",
   "execution_count": 13,
   "id": "663a497e",
   "metadata": {},
   "outputs": [
    {
     "data": {
      "text/html": [
       "<table class=\"dataframe\">\n",
       "<caption>A data.frame: 10 × 3</caption>\n",
       "<thead>\n",
       "\t<tr><th scope=col>Tree</th><th scope=col>age</th><th scope=col>circumference</th></tr>\n",
       "\t<tr><th scope=col>&lt;chr&gt;</th><th scope=col>&lt;int&gt;</th><th scope=col>&lt;int&gt;</th></tr>\n",
       "</thead>\n",
       "<tbody>\n",
       "\t<tr><td>1</td><td> 118</td><td> 30</td></tr>\n",
       "\t<tr><td>2</td><td> 118</td><td> 33</td></tr>\n",
       "\t<tr><td>3</td><td> 118</td><td> 30</td></tr>\n",
       "\t<tr><td>4</td><td> 118</td><td> 32</td></tr>\n",
       "\t<tr><td>5</td><td> 118</td><td> 30</td></tr>\n",
       "\t<tr><td>1</td><td>1582</td><td>145</td></tr>\n",
       "\t<tr><td>2</td><td>1582</td><td>203</td></tr>\n",
       "\t<tr><td>3</td><td>1582</td><td>140</td></tr>\n",
       "\t<tr><td>4</td><td>1582</td><td>214</td></tr>\n",
       "\t<tr><td>5</td><td>1582</td><td>177</td></tr>\n",
       "</tbody>\n",
       "</table>\n"
      ],
      "text/latex": [
       "A data.frame: 10 × 3\n",
       "\\begin{tabular}{lll}\n",
       " Tree & age & circumference\\\\\n",
       " <chr> & <int> & <int>\\\\\n",
       "\\hline\n",
       "\t 1 &  118 &  30\\\\\n",
       "\t 2 &  118 &  33\\\\\n",
       "\t 3 &  118 &  30\\\\\n",
       "\t 4 &  118 &  32\\\\\n",
       "\t 5 &  118 &  30\\\\\n",
       "\t 1 & 1582 & 145\\\\\n",
       "\t 2 & 1582 & 203\\\\\n",
       "\t 3 & 1582 & 140\\\\\n",
       "\t 4 & 1582 & 214\\\\\n",
       "\t 5 & 1582 & 177\\\\\n",
       "\\end{tabular}\n"
      ],
      "text/markdown": [
       "\n",
       "A data.frame: 10 × 3\n",
       "\n",
       "| Tree &lt;chr&gt; | age &lt;int&gt; | circumference &lt;int&gt; |\n",
       "|---|---|---|\n",
       "| 1 |  118 |  30 |\n",
       "| 2 |  118 |  33 |\n",
       "| 3 |  118 |  30 |\n",
       "| 4 |  118 |  32 |\n",
       "| 5 |  118 |  30 |\n",
       "| 1 | 1582 | 145 |\n",
       "| 2 | 1582 | 203 |\n",
       "| 3 | 1582 | 140 |\n",
       "| 4 | 1582 | 214 |\n",
       "| 5 | 1582 | 177 |\n",
       "\n"
      ],
      "text/plain": [
       "   Tree age  circumference\n",
       "1  1     118  30          \n",
       "2  2     118  33          \n",
       "3  3     118  30          \n",
       "4  4     118  32          \n",
       "5  5     118  30          \n",
       "6  1    1582 145          \n",
       "7  2    1582 203          \n",
       "8  3    1582 140          \n",
       "9  4    1582 214          \n",
       "10 5    1582 177          "
      ]
     },
     "metadata": {},
     "output_type": "display_data"
    }
   ],
   "source": [
    "arrange(subset(orange, age == max(orange$age) | age == min(orange$age)), age)"
   ]
  },
  {
   "cell_type": "code",
   "execution_count": 17,
   "id": "a136a153",
   "metadata": {},
   "outputs": [
    {
     "data": {
      "text/html": [
       "<table class=\"dataframe\">\n",
       "<caption>A data.frame: 10 × 3</caption>\n",
       "<thead>\n",
       "\t<tr><th scope=col>Tree</th><th scope=col>age</th><th scope=col>circumference</th></tr>\n",
       "\t<tr><th scope=col>&lt;chr&gt;</th><th scope=col>&lt;int&gt;</th><th scope=col>&lt;int&gt;</th></tr>\n",
       "</thead>\n",
       "<tbody>\n",
       "\t<tr><td>1</td><td> 118</td><td> 30</td></tr>\n",
       "\t<tr><td>1</td><td>1582</td><td>145</td></tr>\n",
       "\t<tr><td>2</td><td> 118</td><td> 33</td></tr>\n",
       "\t<tr><td>2</td><td>1582</td><td>203</td></tr>\n",
       "\t<tr><td>3</td><td> 118</td><td> 30</td></tr>\n",
       "\t<tr><td>3</td><td>1582</td><td>140</td></tr>\n",
       "\t<tr><td>4</td><td> 118</td><td> 32</td></tr>\n",
       "\t<tr><td>4</td><td>1582</td><td>214</td></tr>\n",
       "\t<tr><td>5</td><td> 118</td><td> 30</td></tr>\n",
       "\t<tr><td>5</td><td>1582</td><td>177</td></tr>\n",
       "</tbody>\n",
       "</table>\n"
      ],
      "text/latex": [
       "A data.frame: 10 × 3\n",
       "\\begin{tabular}{lll}\n",
       " Tree & age & circumference\\\\\n",
       " <chr> & <int> & <int>\\\\\n",
       "\\hline\n",
       "\t 1 &  118 &  30\\\\\n",
       "\t 1 & 1582 & 145\\\\\n",
       "\t 2 &  118 &  33\\\\\n",
       "\t 2 & 1582 & 203\\\\\n",
       "\t 3 &  118 &  30\\\\\n",
       "\t 3 & 1582 & 140\\\\\n",
       "\t 4 &  118 &  32\\\\\n",
       "\t 4 & 1582 & 214\\\\\n",
       "\t 5 &  118 &  30\\\\\n",
       "\t 5 & 1582 & 177\\\\\n",
       "\\end{tabular}\n"
      ],
      "text/markdown": [
       "\n",
       "A data.frame: 10 × 3\n",
       "\n",
       "| Tree &lt;chr&gt; | age &lt;int&gt; | circumference &lt;int&gt; |\n",
       "|---|---|---|\n",
       "| 1 |  118 |  30 |\n",
       "| 1 | 1582 | 145 |\n",
       "| 2 |  118 |  33 |\n",
       "| 2 | 1582 | 203 |\n",
       "| 3 |  118 |  30 |\n",
       "| 3 | 1582 | 140 |\n",
       "| 4 |  118 |  32 |\n",
       "| 4 | 1582 | 214 |\n",
       "| 5 |  118 |  30 |\n",
       "| 5 | 1582 | 177 |\n",
       "\n"
      ],
      "text/plain": [
       "   Tree age  circumference\n",
       "1  1     118  30          \n",
       "2  1    1582 145          \n",
       "3  2     118  33          \n",
       "4  2    1582 203          \n",
       "5  3     118  30          \n",
       "6  3    1582 140          \n",
       "7  4     118  32          \n",
       "8  4    1582 214          \n",
       "9  5     118  30          \n",
       "10 5    1582 177          "
      ]
     },
     "metadata": {},
     "output_type": "display_data"
    }
   ],
   "source": [
    "filter(orange, age == max(orange$age) | age == min(orange$age))"
   ]
  },
  {
   "cell_type": "code",
   "execution_count": 16,
   "id": "0ce9ea3e",
   "metadata": {
    "scrolled": true
   },
   "outputs": [
    {
     "data": {
      "text/html": [
       "<table class=\"dataframe\">\n",
       "<caption>A data.frame: 20 × 3</caption>\n",
       "<thead>\n",
       "\t<tr><th scope=col>Tree</th><th scope=col>age</th><th scope=col>circumference</th></tr>\n",
       "\t<tr><th scope=col>&lt;chr&gt;</th><th scope=col>&lt;int&gt;</th><th scope=col>&lt;int&gt;</th></tr>\n",
       "</thead>\n",
       "<tbody>\n",
       "\t<tr><td>1</td><td>1004</td><td>115</td></tr>\n",
       "\t<tr><td>1</td><td>1231</td><td>120</td></tr>\n",
       "\t<tr><td>1</td><td>1372</td><td>142</td></tr>\n",
       "\t<tr><td>1</td><td>1582</td><td>145</td></tr>\n",
       "\t<tr><td>2</td><td>1004</td><td>156</td></tr>\n",
       "\t<tr><td>2</td><td>1231</td><td>172</td></tr>\n",
       "\t<tr><td>2</td><td>1372</td><td>203</td></tr>\n",
       "\t<tr><td>2</td><td>1582</td><td>203</td></tr>\n",
       "\t<tr><td>3</td><td>1004</td><td>108</td></tr>\n",
       "\t<tr><td>3</td><td>1231</td><td>115</td></tr>\n",
       "\t<tr><td>3</td><td>1372</td><td>139</td></tr>\n",
       "\t<tr><td>3</td><td>1582</td><td>140</td></tr>\n",
       "\t<tr><td>4</td><td>1004</td><td>167</td></tr>\n",
       "\t<tr><td>4</td><td>1231</td><td>179</td></tr>\n",
       "\t<tr><td>4</td><td>1372</td><td>209</td></tr>\n",
       "\t<tr><td>4</td><td>1582</td><td>214</td></tr>\n",
       "\t<tr><td>5</td><td>1004</td><td>125</td></tr>\n",
       "\t<tr><td>5</td><td>1231</td><td>142</td></tr>\n",
       "\t<tr><td>5</td><td>1372</td><td>174</td></tr>\n",
       "\t<tr><td>5</td><td>1582</td><td>177</td></tr>\n",
       "</tbody>\n",
       "</table>\n"
      ],
      "text/latex": [
       "A data.frame: 20 × 3\n",
       "\\begin{tabular}{lll}\n",
       " Tree & age & circumference\\\\\n",
       " <chr> & <int> & <int>\\\\\n",
       "\\hline\n",
       "\t 1 & 1004 & 115\\\\\n",
       "\t 1 & 1231 & 120\\\\\n",
       "\t 1 & 1372 & 142\\\\\n",
       "\t 1 & 1582 & 145\\\\\n",
       "\t 2 & 1004 & 156\\\\\n",
       "\t 2 & 1231 & 172\\\\\n",
       "\t 2 & 1372 & 203\\\\\n",
       "\t 2 & 1582 & 203\\\\\n",
       "\t 3 & 1004 & 108\\\\\n",
       "\t 3 & 1231 & 115\\\\\n",
       "\t 3 & 1372 & 139\\\\\n",
       "\t 3 & 1582 & 140\\\\\n",
       "\t 4 & 1004 & 167\\\\\n",
       "\t 4 & 1231 & 179\\\\\n",
       "\t 4 & 1372 & 209\\\\\n",
       "\t 4 & 1582 & 214\\\\\n",
       "\t 5 & 1004 & 125\\\\\n",
       "\t 5 & 1231 & 142\\\\\n",
       "\t 5 & 1372 & 174\\\\\n",
       "\t 5 & 1582 & 177\\\\\n",
       "\\end{tabular}\n"
      ],
      "text/markdown": [
       "\n",
       "A data.frame: 20 × 3\n",
       "\n",
       "| Tree &lt;chr&gt; | age &lt;int&gt; | circumference &lt;int&gt; |\n",
       "|---|---|---|\n",
       "| 1 | 1004 | 115 |\n",
       "| 1 | 1231 | 120 |\n",
       "| 1 | 1372 | 142 |\n",
       "| 1 | 1582 | 145 |\n",
       "| 2 | 1004 | 156 |\n",
       "| 2 | 1231 | 172 |\n",
       "| 2 | 1372 | 203 |\n",
       "| 2 | 1582 | 203 |\n",
       "| 3 | 1004 | 108 |\n",
       "| 3 | 1231 | 115 |\n",
       "| 3 | 1372 | 139 |\n",
       "| 3 | 1582 | 140 |\n",
       "| 4 | 1004 | 167 |\n",
       "| 4 | 1231 | 179 |\n",
       "| 4 | 1372 | 209 |\n",
       "| 4 | 1582 | 214 |\n",
       "| 5 | 1004 | 125 |\n",
       "| 5 | 1231 | 142 |\n",
       "| 5 | 1372 | 174 |\n",
       "| 5 | 1582 | 177 |\n",
       "\n"
      ],
      "text/plain": [
       "   Tree age  circumference\n",
       "1  1    1004 115          \n",
       "2  1    1231 120          \n",
       "3  1    1372 142          \n",
       "4  1    1582 145          \n",
       "5  2    1004 156          \n",
       "6  2    1231 172          \n",
       "7  2    1372 203          \n",
       "8  2    1582 203          \n",
       "9  3    1004 108          \n",
       "10 3    1231 115          \n",
       "11 3    1372 139          \n",
       "12 3    1582 140          \n",
       "13 4    1004 167          \n",
       "14 4    1231 179          \n",
       "15 4    1372 209          \n",
       "16 4    1582 214          \n",
       "17 5    1004 125          \n",
       "18 5    1231 142          \n",
       "19 5    1372 174          \n",
       "20 5    1582 177          "
      ]
     },
     "metadata": {},
     "output_type": "display_data"
    }
   ],
   "source": [
    "filter(orange, age>1000 & circumference > 100)"
   ]
  },
  {
   "cell_type": "code",
   "execution_count": null,
   "id": "879cc997",
   "metadata": {},
   "outputs": [],
   "source": []
  }
 ],
 "metadata": {
  "kernelspec": {
   "display_name": "R",
   "language": "R",
   "name": "ir"
  },
  "language_info": {
   "codemirror_mode": "r",
   "file_extension": ".r",
   "mimetype": "text/x-r-source",
   "name": "R",
   "pygments_lexer": "r",
   "version": "4.1.0"
  }
 },
 "nbformat": 4,
 "nbformat_minor": 5
}
