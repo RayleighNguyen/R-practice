{
 "cells": [
  {
   "cell_type": "code",
   "execution_count": 1,
   "id": "30704cd8",
   "metadata": {},
   "outputs": [],
   "source": [
    "library('httr')"
   ]
  },
  {
   "cell_type": "code",
   "execution_count": 2,
   "id": "90fed427",
   "metadata": {},
   "outputs": [],
   "source": [
    "library('jsonlite')"
   ]
  },
  {
   "cell_type": "code",
   "execution_count": 13,
   "id": "d3d64d11",
   "metadata": {},
   "outputs": [],
   "source": [
    "library(methods)"
   ]
  },
  {
   "cell_type": "code",
   "execution_count": 3,
   "id": "809117da",
   "metadata": {},
   "outputs": [],
   "source": [
    "json_text = fromJSON('Du_lieu/books.json')"
   ]
  },
  {
   "cell_type": "code",
   "execution_count": 4,
   "id": "f173e452",
   "metadata": {},
   "outputs": [
    {
     "data": {
      "text/html": [
       "<strong>$Mathematics</strong> = <strong>$book</strong> = <table class=\"dataframe\">\n",
       "<caption>A data.frame: 3 × 6</caption>\n",
       "<thead>\n",
       "\t<tr><th></th><th scope=col>title</th><th scope=col>publisher</th><th scope=col>isbn</th><th scope=col>pages</th><th scope=col>author</th><th scope=col>attribute</th></tr>\n",
       "\t<tr><th></th><th scope=col>&lt;chr&gt;</th><th scope=col>&lt;chr&gt;</th><th scope=col>&lt;chr&gt;</th><th scope=col>&lt;chr&gt;</th><th scope=col>&lt;list&gt;</th><th scope=col>&lt;list&gt;</th></tr>\n",
       "</thead>\n",
       "<tbody>\n",
       "\t<tr><th scope=row>1</th><td>Applied Linear Statistical Models                        </td><td>McGraw Hill</td><td>9780073108742</td><td>1396</td><td>Michael Kutner        , William Li            , Christopher Nachtsheim, John Neter            </td><td>Exercises    , Illustrations, Readability  </td></tr>\n",
       "\t<tr><th scope=row>2</th><td>Mathematical Proofs: A Transition to Advanced Mathematics</td><td>Pearson    </td><td>9780321390530</td><td>365 </td><td>Gary Chartrand , Ping Zhang     , Albert Polimeni</td><td>Exercises  , Readability</td></tr>\n",
       "\t<tr><th scope=row>3</th><td>Mathematical Statistics with Resampling and R            </td><td>Wiley      </td><td>9781118029855</td><td>418 </td><td>Laura Chihara , Tim Hesterberg</td><td>Exercises    , Illustrations, Readability  </td></tr>\n",
       "</tbody>\n",
       "</table>\n"
      ],
      "text/latex": [
       "\\textbf{\\$Mathematics} = \\textbf{\\$book} = A data.frame: 3 × 6\n",
       "\\begin{tabular}{r|llllll}\n",
       "  & title & publisher & isbn & pages & author & attribute\\\\\n",
       "  & <chr> & <chr> & <chr> & <chr> & <list> & <list>\\\\\n",
       "\\hline\n",
       "\t1 & Applied Linear Statistical Models                         & McGraw Hill & 9780073108742 & 1396 & Michael Kutner        , William Li            , Christopher Nachtsheim, John Neter             & Exercises    , Illustrations, Readability  \\\\\n",
       "\t2 & Mathematical Proofs: A Transition to Advanced Mathematics & Pearson     & 9780321390530 & 365  & Gary Chartrand , Ping Zhang     , Albert Polimeni & Exercises  , Readability\\\\\n",
       "\t3 & Mathematical Statistics with Resampling and R             & Wiley       & 9781118029855 & 418  & Laura Chihara , Tim Hesterberg & Exercises    , Illustrations, Readability  \\\\\n",
       "\\end{tabular}\n"
      ],
      "text/markdown": [
       "**$Mathematics** = **$book** = \n",
       "A data.frame: 3 × 6\n",
       "\n",
       "| <!--/--> | title &lt;chr&gt; | publisher &lt;chr&gt; | isbn &lt;chr&gt; | pages &lt;chr&gt; | author &lt;list&gt; | attribute &lt;list&gt; |\n",
       "|---|---|---|---|---|---|---|\n",
       "| 1 | Applied Linear Statistical Models                         | McGraw Hill | 9780073108742 | 1396 | Michael Kutner        , William Li            , Christopher Nachtsheim, John Neter             | Exercises    , Illustrations, Readability   |\n",
       "| 2 | Mathematical Proofs: A Transition to Advanced Mathematics | Pearson     | 9780321390530 | 365  | Gary Chartrand , Ping Zhang     , Albert Polimeni | Exercises  , Readability |\n",
       "| 3 | Mathematical Statistics with Resampling and R             | Wiley       | 9781118029855 | 418  | Laura Chihara , Tim Hesterberg | Exercises    , Illustrations, Readability   |\n",
       "\n"
      ],
      "text/plain": [
       "$Mathematics\n",
       "$Mathematics$book\n",
       "                                                      title   publisher\n",
       "1                         Applied Linear Statistical Models McGraw Hill\n",
       "2 Mathematical Proofs: A Transition to Advanced Mathematics     Pearson\n",
       "3             Mathematical Statistics with Resampling and R       Wiley\n",
       "           isbn pages\n",
       "1 9780073108742  1396\n",
       "2 9780321390530   365\n",
       "3 9781118029855   418\n",
       "                                                          author\n",
       "1 Michael Kutner, William Li, Christopher Nachtsheim, John Neter\n",
       "2                    Gary Chartrand, Ping Zhang, Albert Polimeni\n",
       "3                                  Laura Chihara, Tim Hesterberg\n",
       "                              attribute\n",
       "1 Exercises, Illustrations, Readability\n",
       "2                Exercises, Readability\n",
       "3 Exercises, Illustrations, Readability\n",
       "\n"
      ]
     },
     "metadata": {},
     "output_type": "display_data"
    }
   ],
   "source": [
    "json_text"
   ]
  },
  {
   "cell_type": "code",
   "execution_count": 5,
   "id": "d249f42b",
   "metadata": {},
   "outputs": [
    {
     "data": {
      "text/html": [
       "<table class=\"dataframe\">\n",
       "<caption>A data.frame: 3 × 6</caption>\n",
       "<thead>\n",
       "\t<tr><th></th><th scope=col>title</th><th scope=col>publisher</th><th scope=col>isbn</th><th scope=col>pages</th><th scope=col>author</th><th scope=col>attribute</th></tr>\n",
       "\t<tr><th></th><th scope=col>&lt;chr&gt;</th><th scope=col>&lt;chr&gt;</th><th scope=col>&lt;chr&gt;</th><th scope=col>&lt;chr&gt;</th><th scope=col>&lt;list&gt;</th><th scope=col>&lt;list&gt;</th></tr>\n",
       "</thead>\n",
       "<tbody>\n",
       "\t<tr><th scope=row>1</th><td>Applied Linear Statistical Models                        </td><td>McGraw Hill</td><td>9780073108742</td><td>1396</td><td>Michael Kutner        , William Li            , Christopher Nachtsheim, John Neter            </td><td>Exercises    , Illustrations, Readability  </td></tr>\n",
       "\t<tr><th scope=row>2</th><td>Mathematical Proofs: A Transition to Advanced Mathematics</td><td>Pearson    </td><td>9780321390530</td><td>365 </td><td>Gary Chartrand , Ping Zhang     , Albert Polimeni</td><td>Exercises  , Readability</td></tr>\n",
       "\t<tr><th scope=row>3</th><td>Mathematical Statistics with Resampling and R            </td><td>Wiley      </td><td>9781118029855</td><td>418 </td><td>Laura Chihara , Tim Hesterberg</td><td>Exercises    , Illustrations, Readability  </td></tr>\n",
       "</tbody>\n",
       "</table>\n"
      ],
      "text/latex": [
       "A data.frame: 3 × 6\n",
       "\\begin{tabular}{r|llllll}\n",
       "  & title & publisher & isbn & pages & author & attribute\\\\\n",
       "  & <chr> & <chr> & <chr> & <chr> & <list> & <list>\\\\\n",
       "\\hline\n",
       "\t1 & Applied Linear Statistical Models                         & McGraw Hill & 9780073108742 & 1396 & Michael Kutner        , William Li            , Christopher Nachtsheim, John Neter             & Exercises    , Illustrations, Readability  \\\\\n",
       "\t2 & Mathematical Proofs: A Transition to Advanced Mathematics & Pearson     & 9780321390530 & 365  & Gary Chartrand , Ping Zhang     , Albert Polimeni & Exercises  , Readability\\\\\n",
       "\t3 & Mathematical Statistics with Resampling and R             & Wiley       & 9781118029855 & 418  & Laura Chihara , Tim Hesterberg & Exercises    , Illustrations, Readability  \\\\\n",
       "\\end{tabular}\n"
      ],
      "text/markdown": [
       "\n",
       "A data.frame: 3 × 6\n",
       "\n",
       "| <!--/--> | title &lt;chr&gt; | publisher &lt;chr&gt; | isbn &lt;chr&gt; | pages &lt;chr&gt; | author &lt;list&gt; | attribute &lt;list&gt; |\n",
       "|---|---|---|---|---|---|---|\n",
       "| 1 | Applied Linear Statistical Models                         | McGraw Hill | 9780073108742 | 1396 | Michael Kutner        , William Li            , Christopher Nachtsheim, John Neter             | Exercises    , Illustrations, Readability   |\n",
       "| 2 | Mathematical Proofs: A Transition to Advanced Mathematics | Pearson     | 9780321390530 | 365  | Gary Chartrand , Ping Zhang     , Albert Polimeni | Exercises  , Readability |\n",
       "| 3 | Mathematical Statistics with Resampling and R             | Wiley       | 9781118029855 | 418  | Laura Chihara , Tim Hesterberg | Exercises    , Illustrations, Readability   |\n",
       "\n"
      ],
      "text/plain": [
       "  title                                                     publisher  \n",
       "1 Applied Linear Statistical Models                         McGraw Hill\n",
       "2 Mathematical Proofs: A Transition to Advanced Mathematics Pearson    \n",
       "3 Mathematical Statistics with Resampling and R             Wiley      \n",
       "  isbn          pages\n",
       "1 9780073108742 1396 \n",
       "2 9780321390530 365  \n",
       "3 9781118029855 418  \n",
       "  author                                                                                        \n",
       "1 Michael Kutner        , William Li            , Christopher Nachtsheim, John Neter            \n",
       "2 Gary Chartrand , Ping Zhang     , Albert Polimeni                                             \n",
       "3 Laura Chihara , Tim Hesterberg                                                                \n",
       "  attribute                                  \n",
       "1 Exercises    , Illustrations, Readability  \n",
       "2 Exercises  , Readability                   \n",
       "3 Exercises    , Illustrations, Readability  "
      ]
     },
     "metadata": {},
     "output_type": "display_data"
    }
   ],
   "source": [
    "book = json_text$Mathematics$book \n",
    "book"
   ]
  },
  {
   "cell_type": "code",
   "execution_count": 6,
   "id": "49809891",
   "metadata": {},
   "outputs": [],
   "source": [
    "# convert dataframe to JSON data\n",
    "# save file\n",
    "json_books = toJSON(book)\n",
    "write(json_books, file='Du_lieu_new/books.json')"
   ]
  },
  {
   "cell_type": "markdown",
   "id": "111f1c36",
   "metadata": {},
   "source": [
    "### Read json file from internet"
   ]
  },
  {
   "cell_type": "code",
   "execution_count": 18,
   "id": "480ad5c9",
   "metadata": {},
   "outputs": [
    {
     "name": "stderr",
     "output_type": "stream",
     "text": [
      "Warning message in readRDS(nsInfoFilePath):\n",
      "\"error reading the file\"\n"
     ]
    },
    {
     "ename": "ERROR",
     "evalue": "Error in readRDS(nsInfoFilePath): error reading from connection\n",
     "output_type": "error",
     "traceback": [
      "Error in readRDS(nsInfoFilePath): error reading from connection\nTraceback:\n",
      "1. GET(url)",
      "2. handle_url(handle, url, ...)",
      "3. handle_find(url)",
      "4. handle(name)",
      "5. loadNamespace(x)",
      "6. readRDS(nsInfoFilePath)"
     ]
    }
   ],
   "source": [
    "url = 'http://phuong13021982.pythonanywhere.com/mystore/product_service/'\n",
    "get_url = GET(url)"
   ]
  },
  {
   "cell_type": "code",
   "execution_count": 12,
   "id": "53c6ac62",
   "metadata": {},
   "outputs": [
    {
     "ename": "ERROR",
     "evalue": "Error in eval(expr, envir, enclos): object 'get_url' not found\n",
     "output_type": "error",
     "traceback": [
      "Error in eval(expr, envir, enclos): object 'get_url' not found\nTraceback:\n"
     ]
    }
   ],
   "source": [
    "get_url$content"
   ]
  },
  {
   "cell_type": "code",
   "execution_count": 19,
   "id": "64dde1ed",
   "metadata": {},
   "outputs": [
    {
     "data": {
      "text/html": [
       "<span style=white-space:pre-wrap>'[{\"pk\": 2, \"name\": \"Asanzo 50 inch\", \"fee\": 9000000, \"description\": \"Tivi Asanzo 4K màn  hình phẳng 50 inch\", \"image\": \"images/asanzo_4k_50_11690000.jpg\"}, {\"pk\": 11, \"name\": \"Dell Vostro V3568 XF6C61\", \"fee\": 11999000, \"description\": \"Chip: Intel Core i5-7200U, RAM: DDR4 4GB (2 khe cắm)\", \"image\": \"images/Dell_vostro.jpg\"}, {\"pk\": 12, \"name\": \"Macbook Air 2017 MQD32\", \"fee\": 18990000, \"description\": \"Intel Core i5 Dual-core 1.8 GHz, 8GB 1600 MHz LPDDR3\", \"image\": \"images/MacbooAir.jpg\"}, {\"pk\": 3, \"name\": \"Panasonic 40 inch\", \"fee\": 6590000, \"description\": \"Tivi Panasonic màn hình phẳng 40 inch\", \"image\": \"images/panansonic_40_6590000.jpg\"}, {\"pk\": 5, \"name\": \"Samsung 32 inch\", \"fee\": 5999000, \"description\": \"Tivi Samsung thế hệ mới 32 inch\", \"image\": \"images/samsung_32_5990000.jpg\"}, {\"pk\": 9, \"name\": \"Samsung Galaxy J2 Prime\", \"fee\": 2690000, \"description\": \"Chính hãng, Nguyên seal, Mới 100%, Chưa Active\", \"image\": \"images/SamsungPrime.jpg\"}, {\"pk\": 6, \"name\": \"Sharp 45 inch\", \"fee\": 7490000, \"description\": \"Tivi Shrap màn hình cong siêu mỏng\", \"image\": \"images/sharp_45_7490000.jpg\"}, {\"pk\": 7, \"name\": \"Sony 48 inch\", \"fee\": 11599000, \"description\": \"Tivi Sony LCD màn hình phẳng 48 inch\", \"image\": \"images/sony_48_11599000.png\"}, {\"pk\": 4, \"name\": \"Sony 55 inch\", \"fee\": 20590000, \"description\": \"Tivi Sony LED màn hình phẳng 55 inch\", \"image\": \"images/sony_55_20590000.jpg\"}, {\"pk\": 8, \"name\": \"TCL 55 inch\", \"fee\": 9900000, \"description\": \"Tivi TCL Smart màn hình cong 55 inch\", \"image\": \"images/tcl_55_9900000.jpg\"}, {\"pk\": 1, \"name\": \"Toshiba 32 inch\", \"fee\": 4590000, \"description\": \"Tivi LCD Toshiba 32 inch màn hình phẳng\", \"image\": \"images/toshiba32_4590000.jpg\"}, {\"pk\": 10, \"name\": \"iPad WiFi 32GB New 2018\", \"fee\": 8390000, \"description\": \"Nhôm nguyên khối, Retina 9.7 inch\", \"image\": \"images/iPad_Samsung_Wifi.jpg\"}]'</span>"
      ],
      "text/latex": [
       "'{[}\\{\"pk\": 2, \"name\": \"Asanzo 50 inch\", \"fee\": 9000000, \"description\": \"Tivi Asanzo 4K màn  hình phẳng 50 inch\", \"image\": \"images/asanzo\\_4k\\_50\\_11690000.jpg\"\\}, \\{\"pk\": 11, \"name\": \"Dell Vostro V3568 XF6C61\", \"fee\": 11999000, \"description\": \"Chip: Intel Core i5-7200U, RAM: DDR4 4GB (2 khe cắm)\", \"image\": \"images/Dell\\_vostro.jpg\"\\}, \\{\"pk\": 12, \"name\": \"Macbook Air 2017 MQD32\", \"fee\": 18990000, \"description\": \"Intel Core i5 Dual-core 1.8 GHz, 8GB 1600 MHz LPDDR3\", \"image\": \"images/MacbooAir.jpg\"\\}, \\{\"pk\": 3, \"name\": \"Panasonic 40 inch\", \"fee\": 6590000, \"description\": \"Tivi Panasonic màn hình phẳng 40 inch\", \"image\": \"images/panansonic\\_40\\_6590000.jpg\"\\}, \\{\"pk\": 5, \"name\": \"Samsung 32 inch\", \"fee\": 5999000, \"description\": \"Tivi Samsung thế hệ mới 32 inch\", \"image\": \"images/samsung\\_32\\_5990000.jpg\"\\}, \\{\"pk\": 9, \"name\": \"Samsung Galaxy J2 Prime\", \"fee\": 2690000, \"description\": \"Chính hãng, Nguyên seal, Mới 100\\%, Chưa Active\", \"image\": \"images/SamsungPrime.jpg\"\\}, \\{\"pk\": 6, \"name\": \"Sharp 45 inch\", \"fee\": 7490000, \"description\": \"Tivi Shrap màn hình cong siêu mỏng\", \"image\": \"images/sharp\\_45\\_7490000.jpg\"\\}, \\{\"pk\": 7, \"name\": \"Sony 48 inch\", \"fee\": 11599000, \"description\": \"Tivi Sony LCD màn hình phẳng 48 inch\", \"image\": \"images/sony\\_48\\_11599000.png\"\\}, \\{\"pk\": 4, \"name\": \"Sony 55 inch\", \"fee\": 20590000, \"description\": \"Tivi Sony LED màn hình phẳng 55 inch\", \"image\": \"images/sony\\_55\\_20590000.jpg\"\\}, \\{\"pk\": 8, \"name\": \"TCL 55 inch\", \"fee\": 9900000, \"description\": \"Tivi TCL Smart màn hình cong 55 inch\", \"image\": \"images/tcl\\_55\\_9900000.jpg\"\\}, \\{\"pk\": 1, \"name\": \"Toshiba 32 inch\", \"fee\": 4590000, \"description\": \"Tivi LCD Toshiba 32 inch màn hình phẳng\", \"image\": \"images/toshiba32\\_4590000.jpg\"\\}, \\{\"pk\": 10, \"name\": \"iPad WiFi 32GB New 2018\", \"fee\": 8390000, \"description\": \"Nhôm nguyên khối, Retina 9.7 inch\", \"image\": \"images/iPad\\_Samsung\\_Wifi.jpg\"\\}{]}'"
      ],
      "text/markdown": [
       "<span style=white-space:pre-wrap>'[{\"pk\": 2, \"name\": \"Asanzo 50 inch\", \"fee\": 9000000, \"description\": \"Tivi Asanzo 4K màn  hình phẳng 50 inch\", \"image\": \"images/asanzo_4k_50_11690000.jpg\"}, {\"pk\": 11, \"name\": \"Dell Vostro V3568 XF6C61\", \"fee\": 11999000, \"description\": \"Chip: Intel Core i5-7200U, RAM: DDR4 4GB (2 khe cắm)\", \"image\": \"images/Dell_vostro.jpg\"}, {\"pk\": 12, \"name\": \"Macbook Air 2017 MQD32\", \"fee\": 18990000, \"description\": \"Intel Core i5 Dual-core 1.8 GHz, 8GB 1600 MHz LPDDR3\", \"image\": \"images/MacbooAir.jpg\"}, {\"pk\": 3, \"name\": \"Panasonic 40 inch\", \"fee\": 6590000, \"description\": \"Tivi Panasonic màn hình phẳng 40 inch\", \"image\": \"images/panansonic_40_6590000.jpg\"}, {\"pk\": 5, \"name\": \"Samsung 32 inch\", \"fee\": 5999000, \"description\": \"Tivi Samsung thế hệ mới 32 inch\", \"image\": \"images/samsung_32_5990000.jpg\"}, {\"pk\": 9, \"name\": \"Samsung Galaxy J2 Prime\", \"fee\": 2690000, \"description\": \"Chính hãng, Nguyên seal, Mới 100%, Chưa Active\", \"image\": \"images/SamsungPrime.jpg\"}, {\"pk\": 6, \"name\": \"Sharp 45 inch\", \"fee\": 7490000, \"description\": \"Tivi Shrap màn hình cong siêu mỏng\", \"image\": \"images/sharp_45_7490000.jpg\"}, {\"pk\": 7, \"name\": \"Sony 48 inch\", \"fee\": 11599000, \"description\": \"Tivi Sony LCD màn hình phẳng 48 inch\", \"image\": \"images/sony_48_11599000.png\"}, {\"pk\": 4, \"name\": \"Sony 55 inch\", \"fee\": 20590000, \"description\": \"Tivi Sony LED màn hình phẳng 55 inch\", \"image\": \"images/sony_55_20590000.jpg\"}, {\"pk\": 8, \"name\": \"TCL 55 inch\", \"fee\": 9900000, \"description\": \"Tivi TCL Smart màn hình cong 55 inch\", \"image\": \"images/tcl_55_9900000.jpg\"}, {\"pk\": 1, \"name\": \"Toshiba 32 inch\", \"fee\": 4590000, \"description\": \"Tivi LCD Toshiba 32 inch màn hình phẳng\", \"image\": \"images/toshiba32_4590000.jpg\"}, {\"pk\": 10, \"name\": \"iPad WiFi 32GB New 2018\", \"fee\": 8390000, \"description\": \"Nhôm nguyên khối, Retina 9.7 inch\", \"image\": \"images/iPad_Samsung_Wifi.jpg\"}]'</span>"
      ],
      "text/plain": [
       "[1] \"[{\\\"pk\\\": 2, \\\"name\\\": \\\"Asanzo 50 inch\\\", \\\"fee\\\": 9000000, \\\"description\\\": \\\"Tivi Asanzo 4K màn  hình phẳng 50 inch\\\", \\\"image\\\": \\\"images/asanzo_4k_50_11690000.jpg\\\"}, {\\\"pk\\\": 11, \\\"name\\\": \\\"Dell Vostro V3568 XF6C61\\\", \\\"fee\\\": 11999000, \\\"description\\\": \\\"Chip: Intel Core i5-7200U, RAM: DDR4 4GB (2 khe cắm)\\\", \\\"image\\\": \\\"images/Dell_vostro.jpg\\\"}, {\\\"pk\\\": 12, \\\"name\\\": \\\"Macbook Air 2017 MQD32\\\", \\\"fee\\\": 18990000, \\\"description\\\": \\\"Intel Core i5 Dual-core 1.8 GHz, 8GB 1600 MHz LPDDR3\\\", \\\"image\\\": \\\"images/MacbooAir.jpg\\\"}, {\\\"pk\\\": 3, \\\"name\\\": \\\"Panasonic 40 inch\\\", \\\"fee\\\": 6590000, \\\"description\\\": \\\"Tivi Panasonic màn hình phẳng 40 inch\\\", \\\"image\\\": \\\"images/panansonic_40_6590000.jpg\\\"}, {\\\"pk\\\": 5, \\\"name\\\": \\\"Samsung 32 inch\\\", \\\"fee\\\": 5999000, \\\"description\\\": \\\"Tivi Samsung thế hệ mới 32 inch\\\", \\\"image\\\": \\\"images/samsung_32_5990000.jpg\\\"}, {\\\"pk\\\": 9, \\\"name\\\": \\\"Samsung Galaxy J2 Prime\\\", \\\"fee\\\": 2690000, \\\"description\\\": \\\"Chính hãng, Nguyên seal, Mới 100%, Chưa Active\\\", \\\"image\\\": \\\"images/SamsungPrime.jpg\\\"}, {\\\"pk\\\": 6, \\\"name\\\": \\\"Sharp 45 inch\\\", \\\"fee\\\": 7490000, \\\"description\\\": \\\"Tivi Shrap màn hình cong siêu mỏng\\\", \\\"image\\\": \\\"images/sharp_45_7490000.jpg\\\"}, {\\\"pk\\\": 7, \\\"name\\\": \\\"Sony 48 inch\\\", \\\"fee\\\": 11599000, \\\"description\\\": \\\"Tivi Sony LCD màn hình phẳng 48 inch\\\", \\\"image\\\": \\\"images/sony_48_11599000.png\\\"}, {\\\"pk\\\": 4, \\\"name\\\": \\\"Sony 55 inch\\\", \\\"fee\\\": 20590000, \\\"description\\\": \\\"Tivi Sony LED màn hình phẳng 55 inch\\\", \\\"image\\\": \\\"images/sony_55_20590000.jpg\\\"}, {\\\"pk\\\": 8, \\\"name\\\": \\\"TCL 55 inch\\\", \\\"fee\\\": 9900000, \\\"description\\\": \\\"Tivi TCL Smart màn hình cong 55 inch\\\", \\\"image\\\": \\\"images/tcl_55_9900000.jpg\\\"}, {\\\"pk\\\": 1, \\\"name\\\": \\\"Toshiba 32 inch\\\", \\\"fee\\\": 4590000, \\\"description\\\": \\\"Tivi LCD Toshiba 32 inch màn hình phẳng\\\", \\\"image\\\": \\\"images/toshiba32_4590000.jpg\\\"}, {\\\"pk\\\": 10, \\\"name\\\": \\\"iPad WiFi 32GB New 2018\\\", \\\"fee\\\": 8390000, \\\"description\\\": \\\"Nhôm nguyên khối, Retina 9.7 inch\\\", \\\"image\\\": \\\"images/iPad_Samsung_Wifi.jpg\\\"}]\""
      ]
     },
     "metadata": {},
     "output_type": "display_data"
    }
   ],
   "source": [
    "content = rawToChar(get_url$content)\n",
    "content"
   ]
  },
  {
   "cell_type": "code",
   "execution_count": 20,
   "id": "bd704e68",
   "metadata": {},
   "outputs": [
    {
     "data": {
      "text/html": [
       "<table class=\"dataframe\">\n",
       "<caption>A data.frame: 12 × 5</caption>\n",
       "<thead>\n",
       "\t<tr><th></th><th scope=col>pk</th><th scope=col>name</th><th scope=col>fee</th><th scope=col>description</th><th scope=col>image</th></tr>\n",
       "\t<tr><th></th><th scope=col>&lt;int&gt;</th><th scope=col>&lt;chr&gt;</th><th scope=col>&lt;int&gt;</th><th scope=col>&lt;chr&gt;</th><th scope=col>&lt;chr&gt;</th></tr>\n",
       "</thead>\n",
       "<tbody>\n",
       "\t<tr><th scope=row>1</th><td> 2</td><td>Asanzo 50 inch          </td><td> 9000000</td><td>Tivi Asanzo 4K màn  hình phẳng 50 inch              </td><td>images/asanzo_4k_50_11690000.jpg</td></tr>\n",
       "\t<tr><th scope=row>2</th><td>11</td><td>Dell Vostro V3568 XF6C61</td><td>11999000</td><td>Chip: Intel Core i5-7200U, RAM: DDR4 4GB (2 khe cắm)</td><td>images/Dell_vostro.jpg          </td></tr>\n",
       "\t<tr><th scope=row>3</th><td>12</td><td>Macbook Air 2017 MQD32  </td><td>18990000</td><td>Intel Core i5 Dual-core 1.8 GHz, 8GB 1600 MHz LPDDR3</td><td>images/MacbooAir.jpg            </td></tr>\n",
       "\t<tr><th scope=row>4</th><td> 3</td><td>Panasonic 40 inch       </td><td> 6590000</td><td>Tivi Panasonic màn hình phẳng 40 inch               </td><td>images/panansonic_40_6590000.jpg</td></tr>\n",
       "\t<tr><th scope=row>5</th><td> 5</td><td>Samsung 32 inch         </td><td> 5999000</td><td>Tivi Samsung thế hệ mới 32 inch                     </td><td>images/samsung_32_5990000.jpg   </td></tr>\n",
       "\t<tr><th scope=row>6</th><td> 9</td><td>Samsung Galaxy J2 Prime </td><td> 2690000</td><td>Chính hãng, Nguyên seal, Mới 100%, Chưa Active      </td><td>images/SamsungPrime.jpg         </td></tr>\n",
       "\t<tr><th scope=row>7</th><td> 6</td><td>Sharp 45 inch           </td><td> 7490000</td><td>Tivi Shrap màn hình cong siêu mỏng                  </td><td>images/sharp_45_7490000.jpg     </td></tr>\n",
       "\t<tr><th scope=row>8</th><td> 7</td><td>Sony 48 inch            </td><td>11599000</td><td>Tivi Sony LCD màn hình phẳng 48 inch                </td><td>images/sony_48_11599000.png     </td></tr>\n",
       "\t<tr><th scope=row>9</th><td> 4</td><td>Sony 55 inch            </td><td>20590000</td><td>Tivi Sony LED màn hình phẳng 55 inch                </td><td>images/sony_55_20590000.jpg     </td></tr>\n",
       "\t<tr><th scope=row>10</th><td> 8</td><td>TCL 55 inch             </td><td> 9900000</td><td>Tivi TCL Smart màn hình cong 55 inch                </td><td>images/tcl_55_9900000.jpg       </td></tr>\n",
       "\t<tr><th scope=row>11</th><td> 1</td><td>Toshiba 32 inch         </td><td> 4590000</td><td>Tivi LCD Toshiba 32 inch màn hình phẳng             </td><td>images/toshiba32_4590000.jpg    </td></tr>\n",
       "\t<tr><th scope=row>12</th><td>10</td><td>iPad WiFi 32GB New 2018 </td><td> 8390000</td><td>Nhôm nguyên khối, Retina 9.7 inch                   </td><td>images/iPad_Samsung_Wifi.jpg    </td></tr>\n",
       "</tbody>\n",
       "</table>\n"
      ],
      "text/latex": [
       "A data.frame: 12 × 5\n",
       "\\begin{tabular}{r|lllll}\n",
       "  & pk & name & fee & description & image\\\\\n",
       "  & <int> & <chr> & <int> & <chr> & <chr>\\\\\n",
       "\\hline\n",
       "\t1 &  2 & Asanzo 50 inch           &  9000000 & Tivi Asanzo 4K màn  hình phẳng 50 inch               & images/asanzo\\_4k\\_50\\_11690000.jpg\\\\\n",
       "\t2 & 11 & Dell Vostro V3568 XF6C61 & 11999000 & Chip: Intel Core i5-7200U, RAM: DDR4 4GB (2 khe cắm) & images/Dell\\_vostro.jpg          \\\\\n",
       "\t3 & 12 & Macbook Air 2017 MQD32   & 18990000 & Intel Core i5 Dual-core 1.8 GHz, 8GB 1600 MHz LPDDR3 & images/MacbooAir.jpg            \\\\\n",
       "\t4 &  3 & Panasonic 40 inch        &  6590000 & Tivi Panasonic màn hình phẳng 40 inch                & images/panansonic\\_40\\_6590000.jpg\\\\\n",
       "\t5 &  5 & Samsung 32 inch          &  5999000 & Tivi Samsung thế hệ mới 32 inch                      & images/samsung\\_32\\_5990000.jpg   \\\\\n",
       "\t6 &  9 & Samsung Galaxy J2 Prime  &  2690000 & Chính hãng, Nguyên seal, Mới 100\\%, Chưa Active       & images/SamsungPrime.jpg         \\\\\n",
       "\t7 &  6 & Sharp 45 inch            &  7490000 & Tivi Shrap màn hình cong siêu mỏng                   & images/sharp\\_45\\_7490000.jpg     \\\\\n",
       "\t8 &  7 & Sony 48 inch             & 11599000 & Tivi Sony LCD màn hình phẳng 48 inch                 & images/sony\\_48\\_11599000.png     \\\\\n",
       "\t9 &  4 & Sony 55 inch             & 20590000 & Tivi Sony LED màn hình phẳng 55 inch                 & images/sony\\_55\\_20590000.jpg     \\\\\n",
       "\t10 &  8 & TCL 55 inch              &  9900000 & Tivi TCL Smart màn hình cong 55 inch                 & images/tcl\\_55\\_9900000.jpg       \\\\\n",
       "\t11 &  1 & Toshiba 32 inch          &  4590000 & Tivi LCD Toshiba 32 inch màn hình phẳng              & images/toshiba32\\_4590000.jpg    \\\\\n",
       "\t12 & 10 & iPad WiFi 32GB New 2018  &  8390000 & Nhôm nguyên khối, Retina 9.7 inch                    & images/iPad\\_Samsung\\_Wifi.jpg    \\\\\n",
       "\\end{tabular}\n"
      ],
      "text/markdown": [
       "\n",
       "A data.frame: 12 × 5\n",
       "\n",
       "| <!--/--> | pk &lt;int&gt; | name &lt;chr&gt; | fee &lt;int&gt; | description &lt;chr&gt; | image &lt;chr&gt; |\n",
       "|---|---|---|---|---|---|\n",
       "| 1 |  2 | Asanzo 50 inch           |  9000000 | Tivi Asanzo 4K màn  hình phẳng 50 inch               | images/asanzo_4k_50_11690000.jpg |\n",
       "| 2 | 11 | Dell Vostro V3568 XF6C61 | 11999000 | Chip: Intel Core i5-7200U, RAM: DDR4 4GB (2 khe cắm) | images/Dell_vostro.jpg           |\n",
       "| 3 | 12 | Macbook Air 2017 MQD32   | 18990000 | Intel Core i5 Dual-core 1.8 GHz, 8GB 1600 MHz LPDDR3 | images/MacbooAir.jpg             |\n",
       "| 4 |  3 | Panasonic 40 inch        |  6590000 | Tivi Panasonic màn hình phẳng 40 inch                | images/panansonic_40_6590000.jpg |\n",
       "| 5 |  5 | Samsung 32 inch          |  5999000 | Tivi Samsung thế hệ mới 32 inch                      | images/samsung_32_5990000.jpg    |\n",
       "| 6 |  9 | Samsung Galaxy J2 Prime  |  2690000 | Chính hãng, Nguyên seal, Mới 100%, Chưa Active       | images/SamsungPrime.jpg          |\n",
       "| 7 |  6 | Sharp 45 inch            |  7490000 | Tivi Shrap màn hình cong siêu mỏng                   | images/sharp_45_7490000.jpg      |\n",
       "| 8 |  7 | Sony 48 inch             | 11599000 | Tivi Sony LCD màn hình phẳng 48 inch                 | images/sony_48_11599000.png      |\n",
       "| 9 |  4 | Sony 55 inch             | 20590000 | Tivi Sony LED màn hình phẳng 55 inch                 | images/sony_55_20590000.jpg      |\n",
       "| 10 |  8 | TCL 55 inch              |  9900000 | Tivi TCL Smart màn hình cong 55 inch                 | images/tcl_55_9900000.jpg        |\n",
       "| 11 |  1 | Toshiba 32 inch          |  4590000 | Tivi LCD Toshiba 32 inch màn hình phẳng              | images/toshiba32_4590000.jpg     |\n",
       "| 12 | 10 | iPad WiFi 32GB New 2018  |  8390000 | Nhôm nguyên khối, Retina 9.7 inch                    | images/iPad_Samsung_Wifi.jpg     |\n",
       "\n"
      ],
      "text/plain": [
       "   pk name                     fee     \n",
       "1   2 Asanzo 50 inch            9000000\n",
       "2  11 Dell Vostro V3568 XF6C61 11999000\n",
       "3  12 Macbook Air 2017 MQD32   18990000\n",
       "4   3 Panasonic 40 inch         6590000\n",
       "5   5 Samsung 32 inch           5999000\n",
       "6   9 Samsung Galaxy J2 Prime   2690000\n",
       "7   6 Sharp 45 inch             7490000\n",
       "8   7 Sony 48 inch             11599000\n",
       "9   4 Sony 55 inch             20590000\n",
       "10  8 TCL 55 inch               9900000\n",
       "11  1 Toshiba 32 inch           4590000\n",
       "12 10 iPad WiFi 32GB New 2018   8390000\n",
       "   description                                         \n",
       "1  Tivi Asanzo 4K màn  hình phẳng 50 inch              \n",
       "2  Chip: Intel Core i5-7200U, RAM: DDR4 4GB (2 khe cắm)\n",
       "3  Intel Core i5 Dual-core 1.8 GHz, 8GB 1600 MHz LPDDR3\n",
       "4  Tivi Panasonic màn hình phẳng 40 inch               \n",
       "5  Tivi Samsung thế hệ mới 32 inch                     \n",
       "6  Chính hãng, Nguyên seal, Mới 100%, Chưa Active      \n",
       "7  Tivi Shrap màn hình cong siêu mỏng                  \n",
       "8  Tivi Sony LCD màn hình phẳng 48 inch                \n",
       "9  Tivi Sony LED màn hình phẳng 55 inch                \n",
       "10 Tivi TCL Smart màn hình cong 55 inch                \n",
       "11 Tivi LCD Toshiba 32 inch màn hình phẳng             \n",
       "12 Nhôm nguyên khối, Retina 9.7 inch                   \n",
       "   image                           \n",
       "1  images/asanzo_4k_50_11690000.jpg\n",
       "2  images/Dell_vostro.jpg          \n",
       "3  images/MacbooAir.jpg            \n",
       "4  images/panansonic_40_6590000.jpg\n",
       "5  images/samsung_32_5990000.jpg   \n",
       "6  images/SamsungPrime.jpg         \n",
       "7  images/sharp_45_7490000.jpg     \n",
       "8  images/sony_48_11599000.png     \n",
       "9  images/sony_55_20590000.jpg     \n",
       "10 images/tcl_55_9900000.jpg       \n",
       "11 images/toshiba32_4590000.jpg    \n",
       "12 images/iPad_Samsung_Wifi.jpg    "
      ]
     },
     "metadata": {},
     "output_type": "display_data"
    }
   ],
   "source": [
    "json = fromJSON(content)\n",
    "json"
   ]
  },
  {
   "cell_type": "code",
   "execution_count": 21,
   "id": "8f7ce951",
   "metadata": {},
   "outputs": [
    {
     "data": {
      "text/html": [
       "<table class=\"dataframe\">\n",
       "<caption>A data.frame: 12 × 3</caption>\n",
       "<thead>\n",
       "\t<tr><th></th><th scope=col>pk</th><th scope=col>name</th><th scope=col>fee</th></tr>\n",
       "\t<tr><th></th><th scope=col>&lt;int&gt;</th><th scope=col>&lt;chr&gt;</th><th scope=col>&lt;int&gt;</th></tr>\n",
       "</thead>\n",
       "<tbody>\n",
       "\t<tr><th scope=row>1</th><td> 2</td><td>Asanzo 50 inch          </td><td> 9000000</td></tr>\n",
       "\t<tr><th scope=row>2</th><td>11</td><td>Dell Vostro V3568 XF6C61</td><td>11999000</td></tr>\n",
       "\t<tr><th scope=row>3</th><td>12</td><td>Macbook Air 2017 MQD32  </td><td>18990000</td></tr>\n",
       "\t<tr><th scope=row>4</th><td> 3</td><td>Panasonic 40 inch       </td><td> 6590000</td></tr>\n",
       "\t<tr><th scope=row>5</th><td> 5</td><td>Samsung 32 inch         </td><td> 5999000</td></tr>\n",
       "\t<tr><th scope=row>6</th><td> 9</td><td>Samsung Galaxy J2 Prime </td><td> 2690000</td></tr>\n",
       "\t<tr><th scope=row>7</th><td> 6</td><td>Sharp 45 inch           </td><td> 7490000</td></tr>\n",
       "\t<tr><th scope=row>8</th><td> 7</td><td>Sony 48 inch            </td><td>11599000</td></tr>\n",
       "\t<tr><th scope=row>9</th><td> 4</td><td>Sony 55 inch            </td><td>20590000</td></tr>\n",
       "\t<tr><th scope=row>10</th><td> 8</td><td>TCL 55 inch             </td><td> 9900000</td></tr>\n",
       "\t<tr><th scope=row>11</th><td> 1</td><td>Toshiba 32 inch         </td><td> 4590000</td></tr>\n",
       "\t<tr><th scope=row>12</th><td>10</td><td>iPad WiFi 32GB New 2018 </td><td> 8390000</td></tr>\n",
       "</tbody>\n",
       "</table>\n"
      ],
      "text/latex": [
       "A data.frame: 12 × 3\n",
       "\\begin{tabular}{r|lll}\n",
       "  & pk & name & fee\\\\\n",
       "  & <int> & <chr> & <int>\\\\\n",
       "\\hline\n",
       "\t1 &  2 & Asanzo 50 inch           &  9000000\\\\\n",
       "\t2 & 11 & Dell Vostro V3568 XF6C61 & 11999000\\\\\n",
       "\t3 & 12 & Macbook Air 2017 MQD32   & 18990000\\\\\n",
       "\t4 &  3 & Panasonic 40 inch        &  6590000\\\\\n",
       "\t5 &  5 & Samsung 32 inch          &  5999000\\\\\n",
       "\t6 &  9 & Samsung Galaxy J2 Prime  &  2690000\\\\\n",
       "\t7 &  6 & Sharp 45 inch            &  7490000\\\\\n",
       "\t8 &  7 & Sony 48 inch             & 11599000\\\\\n",
       "\t9 &  4 & Sony 55 inch             & 20590000\\\\\n",
       "\t10 &  8 & TCL 55 inch              &  9900000\\\\\n",
       "\t11 &  1 & Toshiba 32 inch          &  4590000\\\\\n",
       "\t12 & 10 & iPad WiFi 32GB New 2018  &  8390000\\\\\n",
       "\\end{tabular}\n"
      ],
      "text/markdown": [
       "\n",
       "A data.frame: 12 × 3\n",
       "\n",
       "| <!--/--> | pk &lt;int&gt; | name &lt;chr&gt; | fee &lt;int&gt; |\n",
       "|---|---|---|---|\n",
       "| 1 |  2 | Asanzo 50 inch           |  9000000 |\n",
       "| 2 | 11 | Dell Vostro V3568 XF6C61 | 11999000 |\n",
       "| 3 | 12 | Macbook Air 2017 MQD32   | 18990000 |\n",
       "| 4 |  3 | Panasonic 40 inch        |  6590000 |\n",
       "| 5 |  5 | Samsung 32 inch          |  5999000 |\n",
       "| 6 |  9 | Samsung Galaxy J2 Prime  |  2690000 |\n",
       "| 7 |  6 | Sharp 45 inch            |  7490000 |\n",
       "| 8 |  7 | Sony 48 inch             | 11599000 |\n",
       "| 9 |  4 | Sony 55 inch             | 20590000 |\n",
       "| 10 |  8 | TCL 55 inch              |  9900000 |\n",
       "| 11 |  1 | Toshiba 32 inch          |  4590000 |\n",
       "| 12 | 10 | iPad WiFi 32GB New 2018  |  8390000 |\n",
       "\n"
      ],
      "text/plain": [
       "   pk name                     fee     \n",
       "1   2 Asanzo 50 inch            9000000\n",
       "2  11 Dell Vostro V3568 XF6C61 11999000\n",
       "3  12 Macbook Air 2017 MQD32   18990000\n",
       "4   3 Panasonic 40 inch         6590000\n",
       "5   5 Samsung 32 inch           5999000\n",
       "6   9 Samsung Galaxy J2 Prime   2690000\n",
       "7   6 Sharp 45 inch             7490000\n",
       "8   7 Sony 48 inch             11599000\n",
       "9   4 Sony 55 inch             20590000\n",
       "10  8 TCL 55 inch               9900000\n",
       "11  1 Toshiba 32 inch           4590000\n",
       "12 10 iPad WiFi 32GB New 2018   8390000"
      ]
     },
     "metadata": {},
     "output_type": "display_data"
    }
   ],
   "source": [
    "json[1:3]"
   ]
  },
  {
   "cell_type": "code",
   "execution_count": 3,
   "id": "33b2afa5",
   "metadata": {},
   "outputs": [],
   "source": [
    "help(lapply)"
   ]
  },
  {
   "cell_type": "code",
   "execution_count": null,
   "id": "f4d05908",
   "metadata": {},
   "outputs": [],
   "source": []
  }
 ],
 "metadata": {
  "kernelspec": {
   "display_name": "R",
   "language": "R",
   "name": "ir"
  },
  "language_info": {
   "codemirror_mode": "r",
   "file_extension": ".r",
   "mimetype": "text/x-r-source",
   "name": "R",
   "pygments_lexer": "r",
   "version": "3.6.3"
  }
 },
 "nbformat": 4,
 "nbformat_minor": 5
}
