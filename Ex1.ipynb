{
 "cells": [
  {
   "cell_type": "code",
   "execution_count": 1,
   "id": "6a65b664",
   "metadata": {},
   "outputs": [],
   "source": [
    "library(XML)\n",
    "library(methods)"
   ]
  },
  {
   "cell_type": "code",
   "execution_count": 5,
   "id": "b089d4fa",
   "metadata": {},
   "outputs": [
    {
     "name": "stderr",
     "output_type": "stream",
     "text": [
      "── \u001b[1mAttaching packages\u001b[22m ─────────────────────────────────────── tidyverse 1.3.1 ──\n",
      "\n",
      "\u001b[32m✔\u001b[39m \u001b[34mggplot2\u001b[39m 3.3.5     \u001b[32m✔\u001b[39m \u001b[34mpurrr  \u001b[39m 0.3.4\n",
      "\u001b[32m✔\u001b[39m \u001b[34mtibble \u001b[39m 3.1.2     \u001b[32m✔\u001b[39m \u001b[34mdplyr  \u001b[39m 1.0.7\n",
      "\u001b[32m✔\u001b[39m \u001b[34mtidyr  \u001b[39m 1.1.3     \u001b[32m✔\u001b[39m \u001b[34mstringr\u001b[39m 1.4.0\n",
      "\u001b[32m✔\u001b[39m \u001b[34mreadr  \u001b[39m 1.4.0     \u001b[32m✔\u001b[39m \u001b[34mforcats\u001b[39m 0.5.1\n",
      "\n",
      "── \u001b[1mConflicts\u001b[22m ────────────────────────────────────────── tidyverse_conflicts() ──\n",
      "\u001b[31m✖\u001b[39m \u001b[34mdplyr\u001b[39m::\u001b[32mfilter()\u001b[39m masks \u001b[34mstats\u001b[39m::filter()\n",
      "\u001b[31m✖\u001b[39m \u001b[34mdplyr\u001b[39m::\u001b[32mlag()\u001b[39m    masks \u001b[34mstats\u001b[39m::lag()\n",
      "\n"
     ]
    }
   ],
   "source": [
    "library(tidyverse)"
   ]
  },
  {
   "cell_type": "code",
   "execution_count": 2,
   "id": "b43ee19a",
   "metadata": {},
   "outputs": [],
   "source": [
    "url = 'http://www.w3schools.com/xml/plant_catalog.xml'\n",
    "download.file(url, destfile = 'Du_lieu_new/plant_catalog.xml')"
   ]
  },
  {
   "cell_type": "code",
   "execution_count": 4,
   "id": "9595d8b5",
   "metadata": {},
   "outputs": [
    {
     "data": {
      "text/html": [
       "<table class=\"dataframe\">\n",
       "<caption>A data.frame: 6 × 6</caption>\n",
       "<thead>\n",
       "\t<tr><th></th><th scope=col>COMMON</th><th scope=col>BOTANICAL</th><th scope=col>ZONE</th><th scope=col>LIGHT</th><th scope=col>PRICE</th><th scope=col>AVAILABILITY</th></tr>\n",
       "\t<tr><th></th><th scope=col>&lt;chr&gt;</th><th scope=col>&lt;chr&gt;</th><th scope=col>&lt;chr&gt;</th><th scope=col>&lt;chr&gt;</th><th scope=col>&lt;chr&gt;</th><th scope=col>&lt;chr&gt;</th></tr>\n",
       "</thead>\n",
       "<tbody>\n",
       "\t<tr><th scope=row>1</th><td>Bloodroot          </td><td>Sanguinaria canadensis</td><td>4</td><td>Mostly Shady</td><td>$2.44</td><td>031599</td></tr>\n",
       "\t<tr><th scope=row>2</th><td>Columbine          </td><td>Aquilegia canadensis  </td><td>3</td><td>Mostly Shady</td><td>$9.37</td><td>030699</td></tr>\n",
       "\t<tr><th scope=row>3</th><td>Marsh Marigold     </td><td>Caltha palustris      </td><td>4</td><td>Mostly Sunny</td><td>$6.81</td><td>051799</td></tr>\n",
       "\t<tr><th scope=row>4</th><td>Cowslip            </td><td>Caltha palustris      </td><td>4</td><td>Mostly Shady</td><td>$9.90</td><td>030699</td></tr>\n",
       "\t<tr><th scope=row>5</th><td>Dutchman's-Breeches</td><td>Dicentra cucullaria   </td><td>3</td><td>Mostly Shady</td><td>$6.44</td><td>012099</td></tr>\n",
       "\t<tr><th scope=row>6</th><td>Ginger, Wild       </td><td>Asarum canadense      </td><td>3</td><td>Mostly Shady</td><td>$9.03</td><td>041899</td></tr>\n",
       "</tbody>\n",
       "</table>\n"
      ],
      "text/latex": [
       "A data.frame: 6 × 6\n",
       "\\begin{tabular}{r|llllll}\n",
       "  & COMMON & BOTANICAL & ZONE & LIGHT & PRICE & AVAILABILITY\\\\\n",
       "  & <chr> & <chr> & <chr> & <chr> & <chr> & <chr>\\\\\n",
       "\\hline\n",
       "\t1 & Bloodroot           & Sanguinaria canadensis & 4 & Mostly Shady & \\$2.44 & 031599\\\\\n",
       "\t2 & Columbine           & Aquilegia canadensis   & 3 & Mostly Shady & \\$9.37 & 030699\\\\\n",
       "\t3 & Marsh Marigold      & Caltha palustris       & 4 & Mostly Sunny & \\$6.81 & 051799\\\\\n",
       "\t4 & Cowslip             & Caltha palustris       & 4 & Mostly Shady & \\$9.90 & 030699\\\\\n",
       "\t5 & Dutchman's-Breeches & Dicentra cucullaria    & 3 & Mostly Shady & \\$6.44 & 012099\\\\\n",
       "\t6 & Ginger, Wild        & Asarum canadense       & 3 & Mostly Shady & \\$9.03 & 041899\\\\\n",
       "\\end{tabular}\n"
      ],
      "text/markdown": [
       "\n",
       "A data.frame: 6 × 6\n",
       "\n",
       "| <!--/--> | COMMON &lt;chr&gt; | BOTANICAL &lt;chr&gt; | ZONE &lt;chr&gt; | LIGHT &lt;chr&gt; | PRICE &lt;chr&gt; | AVAILABILITY &lt;chr&gt; |\n",
       "|---|---|---|---|---|---|---|\n",
       "| 1 | Bloodroot           | Sanguinaria canadensis | 4 | Mostly Shady | $2.44 | 031599 |\n",
       "| 2 | Columbine           | Aquilegia canadensis   | 3 | Mostly Shady | $9.37 | 030699 |\n",
       "| 3 | Marsh Marigold      | Caltha palustris       | 4 | Mostly Sunny | $6.81 | 051799 |\n",
       "| 4 | Cowslip             | Caltha palustris       | 4 | Mostly Shady | $9.90 | 030699 |\n",
       "| 5 | Dutchman's-Breeches | Dicentra cucullaria    | 3 | Mostly Shady | $6.44 | 012099 |\n",
       "| 6 | Ginger, Wild        | Asarum canadense       | 3 | Mostly Shady | $9.03 | 041899 |\n",
       "\n"
      ],
      "text/plain": [
       "  COMMON              BOTANICAL              ZONE LIGHT        PRICE\n",
       "1 Bloodroot           Sanguinaria canadensis 4    Mostly Shady $2.44\n",
       "2 Columbine           Aquilegia canadensis   3    Mostly Shady $9.37\n",
       "3 Marsh Marigold      Caltha palustris       4    Mostly Sunny $6.81\n",
       "4 Cowslip             Caltha palustris       4    Mostly Shady $9.90\n",
       "5 Dutchman's-Breeches Dicentra cucullaria    3    Mostly Shady $6.44\n",
       "6 Ginger, Wild        Asarum canadense       3    Mostly Shady $9.03\n",
       "  AVAILABILITY\n",
       "1 031599      \n",
       "2 030699      \n",
       "3 051799      \n",
       "4 030699      \n",
       "5 012099      \n",
       "6 041899      "
      ]
     },
     "metadata": {},
     "output_type": "display_data"
    }
   ],
   "source": [
    "df = xmlToDataFrame('Du_lieu_new/plant_catalog.xml')\n",
    "head(df)"
   ]
  },
  {
   "cell_type": "code",
   "execution_count": 7,
   "id": "ed59042c",
   "metadata": {},
   "outputs": [
    {
     "data": {
      "text/html": [
       "<table class=\"dataframe\">\n",
       "<caption>A data.frame: 2 × 6</caption>\n",
       "<thead>\n",
       "\t<tr><th></th><th scope=col>COMMON</th><th scope=col>BOTANICAL</th><th scope=col>ZONE</th><th scope=col>LIGHT</th><th scope=col>PRICE</th><th scope=col>AVAILABILITY</th></tr>\n",
       "\t<tr><th></th><th scope=col>&lt;chr&gt;</th><th scope=col>&lt;chr&gt;</th><th scope=col>&lt;chr&gt;</th><th scope=col>&lt;chr&gt;</th><th scope=col>&lt;chr&gt;</th><th scope=col>&lt;chr&gt;</th></tr>\n",
       "</thead>\n",
       "<tbody>\n",
       "\t<tr><th scope=row>23</th><td>Black-Eyed Susan</td><td>Rudbeckia hirta   </td><td>Annual</td><td>Sunny</td><td>$9.80</td><td>061899</td></tr>\n",
       "\t<tr><th scope=row>26</th><td>Butterfly Weed  </td><td>Asclepias tuberosa</td><td>Annual</td><td>Sunny</td><td>$2.78</td><td>063099</td></tr>\n",
       "</tbody>\n",
       "</table>\n"
      ],
      "text/latex": [
       "A data.frame: 2 × 6\n",
       "\\begin{tabular}{r|llllll}\n",
       "  & COMMON & BOTANICAL & ZONE & LIGHT & PRICE & AVAILABILITY\\\\\n",
       "  & <chr> & <chr> & <chr> & <chr> & <chr> & <chr>\\\\\n",
       "\\hline\n",
       "\t23 & Black-Eyed Susan & Rudbeckia hirta    & Annual & Sunny & \\$9.80 & 061899\\\\\n",
       "\t26 & Butterfly Weed   & Asclepias tuberosa & Annual & Sunny & \\$2.78 & 063099\\\\\n",
       "\\end{tabular}\n"
      ],
      "text/markdown": [
       "\n",
       "A data.frame: 2 × 6\n",
       "\n",
       "| <!--/--> | COMMON &lt;chr&gt; | BOTANICAL &lt;chr&gt; | ZONE &lt;chr&gt; | LIGHT &lt;chr&gt; | PRICE &lt;chr&gt; | AVAILABILITY &lt;chr&gt; |\n",
       "|---|---|---|---|---|---|---|\n",
       "| 23 | Black-Eyed Susan | Rudbeckia hirta    | Annual | Sunny | $9.80 | 061899 |\n",
       "| 26 | Butterfly Weed   | Asclepias tuberosa | Annual | Sunny | $2.78 | 063099 |\n",
       "\n"
      ],
      "text/plain": [
       "   COMMON           BOTANICAL          ZONE   LIGHT PRICE AVAILABILITY\n",
       "23 Black-Eyed Susan Rudbeckia hirta    Annual Sunny $9.80 061899      \n",
       "26 Butterfly Weed   Asclepias tuberosa Annual Sunny $2.78 063099      "
      ]
     },
     "metadata": {},
     "output_type": "display_data"
    }
   ],
   "source": [
    "subset(df, ZONE == 'Annual' & LIGHT == 'Sunny')"
   ]
  },
  {
   "cell_type": "code",
   "execution_count": 8,
   "id": "576991e1",
   "metadata": {},
   "outputs": [
    {
     "data": {
      "text/html": [
       "<table class=\"dataframe\">\n",
       "<caption>A data.frame: 2 × 6</caption>\n",
       "<thead>\n",
       "\t<tr><th></th><th scope=col>COMMON</th><th scope=col>BOTANICAL</th><th scope=col>ZONE</th><th scope=col>LIGHT</th><th scope=col>PRICE</th><th scope=col>AVAILABILITY</th></tr>\n",
       "\t<tr><th></th><th scope=col>&lt;chr&gt;</th><th scope=col>&lt;chr&gt;</th><th scope=col>&lt;chr&gt;</th><th scope=col>&lt;chr&gt;</th><th scope=col>&lt;chr&gt;</th><th scope=col>&lt;chr&gt;</th></tr>\n",
       "</thead>\n",
       "<tbody>\n",
       "\t<tr><th scope=row>23</th><td>Black-Eyed Susan</td><td>Rudbeckia hirta   </td><td>Annual</td><td>Sunny</td><td>$9.80</td><td>061899</td></tr>\n",
       "\t<tr><th scope=row>26</th><td>Butterfly Weed  </td><td>Asclepias tuberosa</td><td>Annual</td><td>Sunny</td><td>$2.78</td><td>063099</td></tr>\n",
       "</tbody>\n",
       "</table>\n"
      ],
      "text/latex": [
       "A data.frame: 2 × 6\n",
       "\\begin{tabular}{r|llllll}\n",
       "  & COMMON & BOTANICAL & ZONE & LIGHT & PRICE & AVAILABILITY\\\\\n",
       "  & <chr> & <chr> & <chr> & <chr> & <chr> & <chr>\\\\\n",
       "\\hline\n",
       "\t23 & Black-Eyed Susan & Rudbeckia hirta    & Annual & Sunny & \\$9.80 & 061899\\\\\n",
       "\t26 & Butterfly Weed   & Asclepias tuberosa & Annual & Sunny & \\$2.78 & 063099\\\\\n",
       "\\end{tabular}\n"
      ],
      "text/markdown": [
       "\n",
       "A data.frame: 2 × 6\n",
       "\n",
       "| <!--/--> | COMMON &lt;chr&gt; | BOTANICAL &lt;chr&gt; | ZONE &lt;chr&gt; | LIGHT &lt;chr&gt; | PRICE &lt;chr&gt; | AVAILABILITY &lt;chr&gt; |\n",
       "|---|---|---|---|---|---|---|\n",
       "| 23 | Black-Eyed Susan | Rudbeckia hirta    | Annual | Sunny | $9.80 | 061899 |\n",
       "| 26 | Butterfly Weed   | Asclepias tuberosa | Annual | Sunny | $2.78 | 063099 |\n",
       "\n"
      ],
      "text/plain": [
       "   COMMON           BOTANICAL          ZONE   LIGHT PRICE AVAILABILITY\n",
       "23 Black-Eyed Susan Rudbeckia hirta    Annual Sunny $9.80 061899      \n",
       "26 Butterfly Weed   Asclepias tuberosa Annual Sunny $2.78 063099      "
      ]
     },
     "metadata": {},
     "output_type": "display_data"
    }
   ],
   "source": [
    "df[df$ZONE == 'Annual' & df$LIGHT == 'Sunny',]"
   ]
  },
  {
   "cell_type": "code",
   "execution_count": 9,
   "id": "3f34b90b",
   "metadata": {},
   "outputs": [
    {
     "data": {
      "text/html": [
       "<table class=\"dataframe\">\n",
       "<caption>A data.frame: 2 × 6</caption>\n",
       "<thead>\n",
       "\t<tr><th scope=col>COMMON</th><th scope=col>BOTANICAL</th><th scope=col>ZONE</th><th scope=col>LIGHT</th><th scope=col>PRICE</th><th scope=col>AVAILABILITY</th></tr>\n",
       "\t<tr><th scope=col>&lt;chr&gt;</th><th scope=col>&lt;chr&gt;</th><th scope=col>&lt;chr&gt;</th><th scope=col>&lt;chr&gt;</th><th scope=col>&lt;chr&gt;</th><th scope=col>&lt;chr&gt;</th></tr>\n",
       "</thead>\n",
       "<tbody>\n",
       "\t<tr><td>Black-Eyed Susan</td><td>Rudbeckia hirta   </td><td>Annual</td><td>Sunny</td><td>$9.80</td><td>061899</td></tr>\n",
       "\t<tr><td>Butterfly Weed  </td><td>Asclepias tuberosa</td><td>Annual</td><td>Sunny</td><td>$2.78</td><td>063099</td></tr>\n",
       "</tbody>\n",
       "</table>\n"
      ],
      "text/latex": [
       "A data.frame: 2 × 6\n",
       "\\begin{tabular}{llllll}\n",
       " COMMON & BOTANICAL & ZONE & LIGHT & PRICE & AVAILABILITY\\\\\n",
       " <chr> & <chr> & <chr> & <chr> & <chr> & <chr>\\\\\n",
       "\\hline\n",
       "\t Black-Eyed Susan & Rudbeckia hirta    & Annual & Sunny & \\$9.80 & 061899\\\\\n",
       "\t Butterfly Weed   & Asclepias tuberosa & Annual & Sunny & \\$2.78 & 063099\\\\\n",
       "\\end{tabular}\n"
      ],
      "text/markdown": [
       "\n",
       "A data.frame: 2 × 6\n",
       "\n",
       "| COMMON &lt;chr&gt; | BOTANICAL &lt;chr&gt; | ZONE &lt;chr&gt; | LIGHT &lt;chr&gt; | PRICE &lt;chr&gt; | AVAILABILITY &lt;chr&gt; |\n",
       "|---|---|---|---|---|---|\n",
       "| Black-Eyed Susan | Rudbeckia hirta    | Annual | Sunny | $9.80 | 061899 |\n",
       "| Butterfly Weed   | Asclepias tuberosa | Annual | Sunny | $2.78 | 063099 |\n",
       "\n"
      ],
      "text/plain": [
       "  COMMON           BOTANICAL          ZONE   LIGHT PRICE AVAILABILITY\n",
       "1 Black-Eyed Susan Rudbeckia hirta    Annual Sunny $9.80 061899      \n",
       "2 Butterfly Weed   Asclepias tuberosa Annual Sunny $2.78 063099      "
      ]
     },
     "metadata": {},
     "output_type": "display_data"
    }
   ],
   "source": [
    "filter(df, ZONE == 'Annual' & LIGHT == 'Sunny')"
   ]
  },
  {
   "cell_type": "code",
   "execution_count": 10,
   "id": "d5c869a2",
   "metadata": {},
   "outputs": [
    {
     "data": {
      "text/html": [
       "<table class=\"dataframe\">\n",
       "<caption>A data.frame: 2 × 6</caption>\n",
       "<thead>\n",
       "\t<tr><th></th><th scope=col>COMMON</th><th scope=col>BOTANICAL</th><th scope=col>ZONE</th><th scope=col>LIGHT</th><th scope=col>PRICE</th><th scope=col>AVAILABILITY</th></tr>\n",
       "\t<tr><th></th><th scope=col>&lt;chr&gt;</th><th scope=col>&lt;chr&gt;</th><th scope=col>&lt;chr&gt;</th><th scope=col>&lt;chr&gt;</th><th scope=col>&lt;chr&gt;</th><th scope=col>&lt;chr&gt;</th></tr>\n",
       "</thead>\n",
       "<tbody>\n",
       "\t<tr><th scope=row>23</th><td>Black-Eyed Susan</td><td>Rudbeckia hirta   </td><td>Annual</td><td>Sunny</td><td>$9.80</td><td>061899</td></tr>\n",
       "\t<tr><th scope=row>26</th><td>Butterfly Weed  </td><td>Asclepias tuberosa</td><td>Annual</td><td>Sunny</td><td>$2.78</td><td>063099</td></tr>\n",
       "</tbody>\n",
       "</table>\n"
      ],
      "text/latex": [
       "A data.frame: 2 × 6\n",
       "\\begin{tabular}{r|llllll}\n",
       "  & COMMON & BOTANICAL & ZONE & LIGHT & PRICE & AVAILABILITY\\\\\n",
       "  & <chr> & <chr> & <chr> & <chr> & <chr> & <chr>\\\\\n",
       "\\hline\n",
       "\t23 & Black-Eyed Susan & Rudbeckia hirta    & Annual & Sunny & \\$9.80 & 061899\\\\\n",
       "\t26 & Butterfly Weed   & Asclepias tuberosa & Annual & Sunny & \\$2.78 & 063099\\\\\n",
       "\\end{tabular}\n"
      ],
      "text/markdown": [
       "\n",
       "A data.frame: 2 × 6\n",
       "\n",
       "| <!--/--> | COMMON &lt;chr&gt; | BOTANICAL &lt;chr&gt; | ZONE &lt;chr&gt; | LIGHT &lt;chr&gt; | PRICE &lt;chr&gt; | AVAILABILITY &lt;chr&gt; |\n",
       "|---|---|---|---|---|---|---|\n",
       "| 23 | Black-Eyed Susan | Rudbeckia hirta    | Annual | Sunny | $9.80 | 061899 |\n",
       "| 26 | Butterfly Weed   | Asclepias tuberosa | Annual | Sunny | $2.78 | 063099 |\n",
       "\n"
      ],
      "text/plain": [
       "   COMMON           BOTANICAL          ZONE   LIGHT PRICE AVAILABILITY\n",
       "23 Black-Eyed Susan Rudbeckia hirta    Annual Sunny $9.80 061899      \n",
       "26 Butterfly Weed   Asclepias tuberosa Annual Sunny $2.78 063099      "
      ]
     },
     "metadata": {},
     "output_type": "display_data"
    }
   ],
   "source": [
    "df[which(df$ZONE == 'Annual' & df$LIGHT == 'Sunny'),]"
   ]
  },
  {
   "cell_type": "code",
   "execution_count": null,
   "id": "ffd1fbda",
   "metadata": {},
   "outputs": [],
   "source": []
  }
 ],
 "metadata": {
  "kernelspec": {
   "display_name": "R",
   "language": "R",
   "name": "ir"
  },
  "language_info": {
   "codemirror_mode": "r",
   "file_extension": ".r",
   "mimetype": "text/x-r-source",
   "name": "R",
   "pygments_lexer": "r",
   "version": "4.1.0"
  }
 },
 "nbformat": 4,
 "nbformat_minor": 5
}
